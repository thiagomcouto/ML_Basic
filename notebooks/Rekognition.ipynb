{
 "cells": [
  {
   "cell_type": "markdown",
   "metadata": {},
   "source": [
    "# Amazon Rekognition demonstration\n",
    "\n",
    "[Amazon Rekognition](https://aws.amazon.com/pt/rekognition/) is a managed service for image recognition. It has several features like: object classification, face detection, image moderation, face recognition, etc. It's main features will be presented in this Notebook.\n",
    "\n",
    "For more information about the Python API (boto3) used in this demonstration, click:\n",
    "\n",
    "http://boto3.readthedocs.io/en/latest/reference/services/rekognition.html#Rekognition.Client.detect_labels"
   ]
  },
  {
   "cell_type": "code",
   "execution_count": 1,
   "metadata": {},
   "outputs": [
    {
     "name": "stdout",
     "output_type": "stream",
     "text": [
      "/bin/sh: conda: command not found\n",
      "Please, reload your kernel now.\n"
     ]
    }
   ],
   "source": [
    "# checking the boto3 version\n",
    "import boto3\n",
    "if boto3.__version__ < \"1.4.8\":\n",
    "    !conda update --yes boto3\n",
    "    print(\"Please, reload your kernel now.\")"
   ]
  },
  {
   "cell_type": "code",
   "execution_count": 2,
   "metadata": {},
   "outputs": [],
   "source": [
    "%matplotlib inline\n",
    "\n",
    "# Importing the libraries\n",
    "import numpy as np\n",
    "import pandas as pd\n",
    "import matplotlib.pyplot as plt\n",
    "import IPython.display as disp\n",
    "\n",
    "from PIL import Image, ImageDraw\n",
    "from IPython.display import Markdown\n",
    "\n",
    "from notebook import notebookapp"
   ]
  },
  {
   "cell_type": "code",
   "execution_count": 3,
   "metadata": {},
   "outputs": [],
   "source": [
    "## Here we will create the Rekognition client. \n",
    "client = boto3.client('rekognition')\n",
    "\n",
    "dataset_dir=\"https://spock.cloud/ai-workshop/reko_data.tar.gz\"\n",
    "base_dir=\"/tmp/reko\""
   ]
  },
  {
   "cell_type": "code",
   "execution_count": 4,
   "metadata": {},
   "outputs": [],
   "source": [
    "!mkdir -p $base_dir\n",
    "!curl -s $dataset_dir | tar -xz -C $base_dir\n",
    "!ln -sf $base_dir/star_wars.mp4 ."
   ]
  },
  {
   "cell_type": "markdown",
   "metadata": {},
   "source": [
    "## Helper functions"
   ]
  },
  {
   "cell_type": "code",
   "execution_count": 5,
   "metadata": {},
   "outputs": [],
   "source": [
    "# Reads an image from the disk and coverts it to a bytearray\n",
    "def load_image(filename):\n",
    "    with open(filename, \"rb\") as imageFile:\n",
    "      f = imageFile.read()\n",
    "      return bytearray(f)"
   ]
  },
  {
   "cell_type": "code",
   "execution_count": 6,
   "metadata": {},
   "outputs": [],
   "source": [
    "# Converts an array to a Pandas dataframe\n",
    "def convert_to_dataframe(labels):\n",
    "    data = { 'Label': [], 'Confidence': [] }\n",
    "\n",
    "    for label in labels:\n",
    "        data['Label'].append( label['Name'] )\n",
    "        data['Confidence'].append( label['Confidence'] )\n",
    "\n",
    "    return pd.DataFrame( data )[ ['Label', 'Confidence'] ]"
   ]
  },
  {
   "cell_type": "code",
   "execution_count": 7,
   "metadata": {},
   "outputs": [],
   "source": [
    "# Invokes Rekognition to extract labels (metadata) from an image\n",
    "def get_labels(filename):\n",
    "    response = client.detect_labels(\n",
    "        Image={'Bytes': load_image(filename)},\n",
    "        MaxLabels=10,\n",
    "        MinConfidence=50\n",
    "    )\n",
    "    return convert_to_dataframe(response['Labels'])"
   ]
  },
  {
   "cell_type": "code",
   "execution_count": null,
   "metadata": {},
   "outputs": [],
   "source": []
  },
  {
   "cell_type": "code",
   "execution_count": null,
   "metadata": {},
   "outputs": [],
   "source": []
  },
  {
   "cell_type": "code",
   "execution_count": 8,
   "metadata": {},
   "outputs": [],
   "source": [
    "# Invokes Rekognition to extract moderation labels from an image\n",
    "def get_moderation_labels(filename):\n",
    "    response = client.detect_moderation_labels(\n",
    "        Image={ 'Bytes': load_image(filename) },\n",
    "        MinConfidence=50\n",
    "    )\n",
    "    return convert_to_dataframe(response['ModerationLabels'])"
   ]
  },
  {
   "cell_type": "code",
   "execution_count": 9,
   "metadata": {},
   "outputs": [],
   "source": [
    "# Converts a bounding box to a rectangle\n",
    "def create_bounding_box(bbox, size):\n",
    "    if len(bbox) != 4:\n",
    "        return None\n",
    "    return [ \n",
    "        bbox['Left'] * size[0], bbox['Top'] * size[1],\n",
    "        (bbox['Left'] * size[0]) + bbox['Width'] * size[0], \n",
    "        (bbox['Top'] * size[1]) + bbox['Height'] * size[1]\n",
    "    ]"
   ]
  },
  {
   "cell_type": "code",
   "execution_count": 10,
   "metadata": {},
   "outputs": [],
   "source": [
    "# Invokes Rekognition for recognizing celebrities in an image\n",
    "def recognize_celebrity(filename):\n",
    "    response = client.recognize_celebrities(\n",
    "        Image={'Bytes': load_image(filename)}\n",
    "    )\n",
    "    img = Image.open(filename)\n",
    "    if len(response['CelebrityFaces']) == 0:\n",
    "        return (None, None, None)\n",
    "    \n",
    "    bbox = create_bounding_box( response['CelebrityFaces'][0]['Face']['BoundingBox'], img.size )\n",
    "    confidence = response['CelebrityFaces'][0]['Face']['Confidence']\n",
    "    name = response['CelebrityFaces'][0]['Name']\n",
    "    \n",
    "    return (name, confidence, bbox )"
   ]
  },
  {
   "cell_type": "code",
   "execution_count": 11,
   "metadata": {},
   "outputs": [],
   "source": [
    "# Draws a bound box in an image\n",
    "def draw_bounding_box(filename, bbox):\n",
    "    img = Image.open(filename)\n",
    "\n",
    "    draw = ImageDraw.Draw(img)\n",
    "    draw.line([(bbox[0], bbox[1]), (bbox[2], bbox[1])], fill='yellow', width=4)\n",
    "    draw.line([(bbox[2], bbox[1]), (bbox[2], bbox[3])], fill='yellow', width=4)\n",
    "    draw.line([(bbox[2], bbox[3]), (bbox[0], bbox[3])], fill='yellow', width=4)\n",
    "    draw.line([(bbox[0], bbox[1]), (bbox[0], bbox[3])], fill='yellow', width=4)\n",
    "    del draw\n",
    "    plt.imshow(img)"
   ]
  },
  {
   "cell_type": "code",
   "execution_count": 12,
   "metadata": {},
   "outputs": [],
   "source": [
    "# Detects a face and it's characteristics in a given image\n",
    "def detect_face(filename):\n",
    "    response = client.detect_faces(\n",
    "        Image={'Bytes': load_image(filename)},\n",
    "        Attributes=['ALL']\n",
    "    )\n",
    "    if len(response['FaceDetails']) == 0:\n",
    "        return None\n",
    "    img = Image.open(filename)\n",
    "    metadata = response['FaceDetails'][0]\n",
    "    confidence = metadata['Confidence']\n",
    "    bbox = create_bounding_box( metadata['BoundingBox'], img.size )\n",
    "    labels = []\n",
    "    for label in ('Smile', 'Eyeglasses', 'Sunglasses', 'Gender', 'Beard', 'Mustache', 'EyesOpen', 'MouthOpen'):\n",
    "        labels.append( {'Name': label + \"({})\".format( metadata[label]['Value']), 'Confidence': metadata[label]['Confidence'] } )\n",
    "    for emo in metadata['Emotions']:\n",
    "        labels.append( {'Name': emo['Type'], 'Confidence': emo['Confidence'] } )\n",
    "    return ( confidence, bbox, convert_to_dataframe(labels) )"
   ]
  },
  {
   "cell_type": "code",
   "execution_count": 13,
   "metadata": {},
   "outputs": [],
   "source": [
    "# Compares similarities between two faces\n",
    "def compare_faces(filenameA, filenameB):\n",
    "    response = client.compare_faces(\n",
    "        SourceImage={'Bytes': load_image( filenameA )},\n",
    "        TargetImage={'Bytes': load_image( filenameB )}\n",
    "    )\n",
    "    if len(response['FaceMatches']) == 0:\n",
    "        return ( None, None, None)\n",
    "    imgA = Image.open(filenameA)\n",
    "    imgB = Image.open(filenameB)\n",
    "    \n",
    "    similarity = response['FaceMatches'][0]['Similarity']\n",
    "    bboxA = create_bounding_box( response['SourceImageFace']['BoundingBox'], imgA.size )\n",
    "    bboxB = create_bounding_box( response['FaceMatches'][0]['Face']['BoundingBox'], imgB.size )\n",
    "    return (similarity, bboxA, bboxB )"
   ]
  },
  {
   "cell_type": "code",
   "execution_count": 14,
   "metadata": {},
   "outputs": [],
   "source": [
    "def delete_collection(name):\n",
    "    try:\n",
    "        response = client.delete_collection(\n",
    "            CollectionId=name\n",
    "        )\n",
    "    except Exception as e:\n",
    "        print(\"Collection not found\")"
   ]
  },
  {
   "cell_type": "markdown",
   "metadata": {},
   "source": [
    "## Detects scenes and objects - client.detect_labels()"
   ]
  },
  {
   "cell_type": "code",
   "execution_count": 15,
   "metadata": {},
   "outputs": [
    {
     "data": {
      "image/jpeg": "[encoded data removed]",
      "text/plain": [
       "<IPython.core.display.Image object>"
      ]
     },
     "execution_count": 15,
     "metadata": {},
     "output_type": "execute_result"
    }
   ],
   "source": [
    "disp.Image(base_dir + '/mosh_thumb.jpg')"
   ]
  },
  {
   "cell_type": "code",
   "execution_count": null,
   "metadata": {},
   "outputs": [],
   "source": []
  },
  {
   "cell_type": "code",
   "execution_count": 16,
   "metadata": {},
   "outputs": [
    {
     "data": {
      "text/html": [
       "<div>\n",
       "<style scoped>\n",
       "    .dataframe tbody tr th:only-of-type {\n",
       "        vertical-align: middle;\n",
       "    }\n",
       "\n",
       "    .dataframe tbody tr th {\n",
       "        vertical-align: top;\n",
       "    }\n",
       "\n",
       "    .dataframe thead th {\n",
       "        text-align: right;\n",
       "    }\n",
       "</style>\n",
       "<table border=\"1\" class=\"dataframe\">\n",
       "  <thead>\n",
       "    <tr style=\"text-align: right;\">\n",
       "      <th></th>\n",
       "      <th>Label</th>\n",
       "      <th>Confidence</th>\n",
       "    </tr>\n",
       "  </thead>\n",
       "  <tbody>\n",
       "    <tr>\n",
       "      <th>0</th>\n",
       "      <td>Crowd</td>\n",
       "      <td>99.611244</td>\n",
       "    </tr>\n",
       "    <tr>\n",
       "      <th>1</th>\n",
       "      <td>Person</td>\n",
       "      <td>99.611244</td>\n",
       "    </tr>\n",
       "    <tr>\n",
       "      <th>2</th>\n",
       "      <td>Audience</td>\n",
       "      <td>99.611244</td>\n",
       "    </tr>\n",
       "    <tr>\n",
       "      <th>3</th>\n",
       "      <td>Interior Design</td>\n",
       "      <td>94.007942</td>\n",
       "    </tr>\n",
       "    <tr>\n",
       "      <th>4</th>\n",
       "      <td>Party</td>\n",
       "      <td>75.050880</td>\n",
       "    </tr>\n",
       "    <tr>\n",
       "      <th>5</th>\n",
       "      <td>Leisure Activities</td>\n",
       "      <td>63.334576</td>\n",
       "    </tr>\n",
       "    <tr>\n",
       "      <th>6</th>\n",
       "      <td>Club</td>\n",
       "      <td>59.952763</td>\n",
       "    </tr>\n",
       "    <tr>\n",
       "      <th>7</th>\n",
       "      <td>Night Life</td>\n",
       "      <td>59.663113</td>\n",
       "    </tr>\n",
       "    <tr>\n",
       "      <th>8</th>\n",
       "      <td>Concert</td>\n",
       "      <td>59.018341</td>\n",
       "    </tr>\n",
       "    <tr>\n",
       "      <th>9</th>\n",
       "      <td>Rock Concert</td>\n",
       "      <td>56.616318</td>\n",
       "    </tr>\n",
       "  </tbody>\n",
       "</table>\n",
       "</div>"
      ],
      "text/plain": [
       "                Label  Confidence\n",
       "0               Crowd   99.611244\n",
       "1              Person   99.611244\n",
       "2            Audience   99.611244\n",
       "3     Interior Design   94.007942\n",
       "4               Party   75.050880\n",
       "5  Leisure Activities   63.334576\n",
       "6                Club   59.952763\n",
       "7          Night Life   59.663113\n",
       "8             Concert   59.018341\n",
       "9        Rock Concert   56.616318"
      ]
     },
     "execution_count": 16,
     "metadata": {},
     "output_type": "execute_result"
    }
   ],
   "source": [
    "get_labels(base_dir + '/mosh.jpg' )"
   ]
  },
  {
   "cell_type": "code",
   "execution_count": null,
   "metadata": {},
   "outputs": [],
   "source": []
  },
  {
   "cell_type": "code",
   "execution_count": 17,
   "metadata": {},
   "outputs": [
    {
     "data": {
      "image/jpeg": "[encoded data removed]",
      "text/plain": [
       "<IPython.core.display.Image object>"
      ]
     },
     "execution_count": 17,
     "metadata": {},
     "output_type": "execute_result"
    }
   ],
   "source": [
    "disp.Image(base_dir + '/pandas_thumb.jpg' )"
   ]
  },
  {
   "cell_type": "code",
   "execution_count": 18,
   "metadata": {},
   "outputs": [
    {
     "data": {
      "text/html": [
       "<div>\n",
       "<style scoped>\n",
       "    .dataframe tbody tr th:only-of-type {\n",
       "        vertical-align: middle;\n",
       "    }\n",
       "\n",
       "    .dataframe tbody tr th {\n",
       "        vertical-align: top;\n",
       "    }\n",
       "\n",
       "    .dataframe thead th {\n",
       "        text-align: right;\n",
       "    }\n",
       "</style>\n",
       "<table border=\"1\" class=\"dataframe\">\n",
       "  <thead>\n",
       "    <tr style=\"text-align: right;\">\n",
       "      <th></th>\n",
       "      <th>Label</th>\n",
       "      <th>Confidence</th>\n",
       "    </tr>\n",
       "  </thead>\n",
       "  <tbody>\n",
       "    <tr>\n",
       "      <th>0</th>\n",
       "      <td>Animal</td>\n",
       "      <td>99.98407</td>\n",
       "    </tr>\n",
       "    <tr>\n",
       "      <th>1</th>\n",
       "      <td>Mammal</td>\n",
       "      <td>99.98407</td>\n",
       "    </tr>\n",
       "    <tr>\n",
       "      <th>2</th>\n",
       "      <td>Bear</td>\n",
       "      <td>99.98407</td>\n",
       "    </tr>\n",
       "    <tr>\n",
       "      <th>3</th>\n",
       "      <td>Wildlife</td>\n",
       "      <td>99.98407</td>\n",
       "    </tr>\n",
       "    <tr>\n",
       "      <th>4</th>\n",
       "      <td>Giant Panda</td>\n",
       "      <td>99.98407</td>\n",
       "    </tr>\n",
       "  </tbody>\n",
       "</table>\n",
       "</div>"
      ],
      "text/plain": [
       "         Label  Confidence\n",
       "0       Animal    99.98407\n",
       "1       Mammal    99.98407\n",
       "2         Bear    99.98407\n",
       "3     Wildlife    99.98407\n",
       "4  Giant Panda    99.98407"
      ]
     },
     "execution_count": 18,
     "metadata": {},
     "output_type": "execute_result"
    }
   ],
   "source": [
    "get_labels( base_dir + '/pandas.jpg' )"
   ]
  },
  {
   "cell_type": "code",
   "execution_count": 19,
   "metadata": {},
   "outputs": [
    {
     "data": {
      "image/jpeg": "[encoded data removed]",
      "text/plain": [
       "<IPython.core.display.Image object>"
      ]
     },
     "execution_count": 19,
     "metadata": {},
     "output_type": "execute_result"
    }
   ],
   "source": [
    "disp.Image(base_dir + '/darth_thumb.jpg' )"
   ]
  },
  {
   "cell_type": "code",
   "execution_count": 20,
   "metadata": {},
   "outputs": [
    {
     "data": {
      "text/html": [
       "<div>\n",
       "<style scoped>\n",
       "    .dataframe tbody tr th:only-of-type {\n",
       "        vertical-align: middle;\n",
       "    }\n",
       "\n",
       "    .dataframe tbody tr th {\n",
       "        vertical-align: top;\n",
       "    }\n",
       "\n",
       "    .dataframe thead th {\n",
       "        text-align: right;\n",
       "    }\n",
       "</style>\n",
       "<table border=\"1\" class=\"dataframe\">\n",
       "  <thead>\n",
       "    <tr style=\"text-align: right;\">\n",
       "      <th></th>\n",
       "      <th>Label</th>\n",
       "      <th>Confidence</th>\n",
       "    </tr>\n",
       "  </thead>\n",
       "  <tbody>\n",
       "    <tr>\n",
       "      <th>0</th>\n",
       "      <td>Clothing</td>\n",
       "      <td>99.569122</td>\n",
       "    </tr>\n",
       "    <tr>\n",
       "      <th>1</th>\n",
       "      <td>Helmet</td>\n",
       "      <td>95.227257</td>\n",
       "    </tr>\n",
       "    <tr>\n",
       "      <th>2</th>\n",
       "      <td>Person</td>\n",
       "      <td>86.676430</td>\n",
       "    </tr>\n",
       "    <tr>\n",
       "      <th>3</th>\n",
       "      <td>Metropolis</td>\n",
       "      <td>71.279556</td>\n",
       "    </tr>\n",
       "    <tr>\n",
       "      <th>4</th>\n",
       "      <td>Fashion</td>\n",
       "      <td>65.553276</td>\n",
       "    </tr>\n",
       "    <tr>\n",
       "      <th>5</th>\n",
       "      <td>Overcoat</td>\n",
       "      <td>63.099808</td>\n",
       "    </tr>\n",
       "    <tr>\n",
       "      <th>6</th>\n",
       "      <td>Cloak</td>\n",
       "      <td>58.576176</td>\n",
       "    </tr>\n",
       "    <tr>\n",
       "      <th>7</th>\n",
       "      <td>Long Sleeve</td>\n",
       "      <td>54.993881</td>\n",
       "    </tr>\n",
       "    <tr>\n",
       "      <th>8</th>\n",
       "      <td>Evening Dress</td>\n",
       "      <td>53.888393</td>\n",
       "    </tr>\n",
       "    <tr>\n",
       "      <th>9</th>\n",
       "      <td>Cape</td>\n",
       "      <td>53.386200</td>\n",
       "    </tr>\n",
       "  </tbody>\n",
       "</table>\n",
       "</div>"
      ],
      "text/plain": [
       "           Label  Confidence\n",
       "0       Clothing   99.569122\n",
       "1         Helmet   95.227257\n",
       "2         Person   86.676430\n",
       "3     Metropolis   71.279556\n",
       "4        Fashion   65.553276\n",
       "5       Overcoat   63.099808\n",
       "6          Cloak   58.576176\n",
       "7    Long Sleeve   54.993881\n",
       "8  Evening Dress   53.888393\n",
       "9           Cape   53.386200"
      ]
     },
     "execution_count": 20,
     "metadata": {},
     "output_type": "execute_result"
    }
   ],
   "source": [
    "get_labels( base_dir + '/darth.jpg' )"
   ]
  },
  {
   "cell_type": "code",
   "execution_count": 21,
   "metadata": {},
   "outputs": [
    {
     "data": {
      "image/jpeg": "[encoded data removed]",
      "text/plain": [
       "<IPython.core.display.Image object>"
      ]
     },
     "execution_count": 21,
     "metadata": {},
     "output_type": "execute_result"
    }
   ],
   "source": [
    "disp.Image(base_dir + '/robots2_thumb.jpg' )"
   ]
  },
  {
   "cell_type": "code",
   "execution_count": 22,
   "metadata": {},
   "outputs": [
    {
     "data": {
      "text/html": [
       "<div>\n",
       "<style scoped>\n",
       "    .dataframe tbody tr th:only-of-type {\n",
       "        vertical-align: middle;\n",
       "    }\n",
       "\n",
       "    .dataframe tbody tr th {\n",
       "        vertical-align: top;\n",
       "    }\n",
       "\n",
       "    .dataframe thead th {\n",
       "        text-align: right;\n",
       "    }\n",
       "</style>\n",
       "<table border=\"1\" class=\"dataframe\">\n",
       "  <thead>\n",
       "    <tr style=\"text-align: right;\">\n",
       "      <th></th>\n",
       "      <th>Label</th>\n",
       "      <th>Confidence</th>\n",
       "    </tr>\n",
       "  </thead>\n",
       "  <tbody>\n",
       "    <tr>\n",
       "      <th>0</th>\n",
       "      <td>Person</td>\n",
       "      <td>99.833443</td>\n",
       "    </tr>\n",
       "    <tr>\n",
       "      <th>1</th>\n",
       "      <td>Human</td>\n",
       "      <td>99.833443</td>\n",
       "    </tr>\n",
       "    <tr>\n",
       "      <th>2</th>\n",
       "      <td>Robot</td>\n",
       "      <td>90.185768</td>\n",
       "    </tr>\n",
       "  </tbody>\n",
       "</table>\n",
       "</div>"
      ],
      "text/plain": [
       "    Label  Confidence\n",
       "0  Person   99.833443\n",
       "1   Human   99.833443\n",
       "2   Robot   90.185768"
      ]
     },
     "execution_count": 22,
     "metadata": {},
     "output_type": "execute_result"
    }
   ],
   "source": [
    "get_labels( base_dir + '/robots2.jpg' )"
   ]
  },
  {
   "cell_type": "markdown",
   "metadata": {},
   "source": [
    "## Detects sugestive content + moderation - client.detect_moderation_labels()"
   ]
  },
  {
   "cell_type": "code",
   "execution_count": null,
   "metadata": {},
   "outputs": [],
   "source": [
    "disp.Image(base_dir + '/voley_thumb.jpg' )"
   ]
  },
  {
   "cell_type": "code",
   "execution_count": null,
   "metadata": {},
   "outputs": [],
   "source": [
    "get_moderation_labels( base_dir + '/voley.jpg' )"
   ]
  },
  {
   "cell_type": "markdown",
   "metadata": {},
   "source": [
    "### Now let's combine moderation with object classification"
   ]
  },
  {
   "cell_type": "code",
   "execution_count": null,
   "metadata": {},
   "outputs": [],
   "source": [
    "labels = pd.concat([ get_moderation_labels( base_dir + '/voley.jpg' ), get_labels( base_dir + '/voley.jpg' ) ], ignore_index=True)\n",
    "labels.sort_values(['Confidence'], ascending=False)"
   ]
  },
  {
   "cell_type": "markdown",
   "metadata": {},
   "source": [
    "## Recognizing celebrities - client.recognize_celebrities()"
   ]
  },
  {
   "cell_type": "code",
   "execution_count": null,
   "metadata": {},
   "outputs": [],
   "source": [
    "disp.Image(base_dir + '/silvio_thumb.jpg' )"
   ]
  },
  {
   "cell_type": "code",
   "execution_count": null,
   "metadata": {},
   "outputs": [],
   "source": [
    "(name, confidence, bbox) = recognize_celebrity( base_dir + '/silvio.jpg' )\n",
    "print( name, confidence )\n",
    "draw_bounding_box(base_dir + '/silvio.jpg', bbox )"
   ]
  },
  {
   "cell_type": "code",
   "execution_count": null,
   "metadata": {},
   "outputs": [],
   "source": [
    "disp.Image(base_dir + '/machida_thumb.jpg' )"
   ]
  },
  {
   "cell_type": "code",
   "execution_count": null,
   "metadata": {},
   "outputs": [],
   "source": [
    "(name, confidence, bbox) = recognize_celebrity( base_dir + '/machida.jpg' )\n",
    "print( name, confidence )\n",
    "if bbox: draw_bounding_box(base_dir + '/machida.jpg', bbox )"
   ]
  },
  {
   "cell_type": "markdown",
   "metadata": {},
   "source": [
    "## Face detection - client.detect_face()"
   ]
  },
  {
   "cell_type": "code",
   "execution_count": null,
   "metadata": {},
   "outputs": [],
   "source": [
    "disp.Image(base_dir + '/wesley_thumb.png' )"
   ]
  },
  {
   "cell_type": "code",
   "execution_count": null,
   "metadata": {},
   "outputs": [],
   "source": [
    "(confidence, bbox, labels) = detect_face( base_dir + '/wesley.png')\n",
    "print( 'Confidence that a face was found: {}'.format( confidence ) )\n",
    "if bbox: draw_bounding_box( base_dir + '/wesley.png', bbox )"
   ]
  },
  {
   "cell_type": "code",
   "execution_count": null,
   "metadata": {},
   "outputs": [],
   "source": [
    "labels"
   ]
  },
  {
   "cell_type": "markdown",
   "metadata": {},
   "source": [
    "## Comparing two faces - client.compare_faces()"
   ]
  },
  {
   "cell_type": "markdown",
   "metadata": {
    "collapsed": true
   },
   "source": [
    "### Source face"
   ]
  },
  {
   "cell_type": "code",
   "execution_count": null,
   "metadata": {},
   "outputs": [],
   "source": [
    "disp.Image(base_dir + '/ju_paes_thumb.jpg' )"
   ]
  },
  {
   "cell_type": "markdown",
   "metadata": {},
   "source": [
    "### Target faces"
   ]
  },
  {
   "cell_type": "code",
   "execution_count": null,
   "metadata": {},
   "outputs": [],
   "source": [
    "disp.Image(base_dir + '/ju_we_em_thumb.jpg' )"
   ]
  },
  {
   "cell_type": "code",
   "execution_count": null,
   "metadata": {},
   "outputs": [],
   "source": [
    "(similarity, bboxA, bboxB) = compare_faces(base_dir + '/ju_paes.jpg', base_dir + '/ju_we_em.jpg')\n",
    "print( 'Similarity: {}'.format( similarity ) )"
   ]
  },
  {
   "cell_type": "code",
   "execution_count": null,
   "metadata": {},
   "outputs": [],
   "source": [
    "if bboxA: draw_bounding_box(base_dir + '/ju_paes.jpg', bboxA )"
   ]
  },
  {
   "cell_type": "code",
   "execution_count": null,
   "metadata": {},
   "outputs": [],
   "source": [
    "if bboxB: draw_bounding_box(base_dir + '/ju_we_em.jpg', bboxB )"
   ]
  },
  {
   "cell_type": "markdown",
   "metadata": {},
   "source": [
    "## Searching faces in a collection - client.search_faces()\n",
    "### Collection ID: Funcionarios\n",
    "Now let's suppose you have a company and you control who enters and leave the company's building by using face recognition. You keep a collection of authorized faces and check agains that collection if a given person is allowed or not to enter/leave."
   ]
  },
  {
   "cell_type": "code",
   "execution_count": null,
   "metadata": {},
   "outputs": [],
   "source": [
    "try:\n",
    "    delete_collection(\"Funcionarios\")\n",
    "    response = client.create_collection(\n",
    "        CollectionId='Funcionarios'\n",
    "    )\n",
    "    faces = {\n",
    "        'Glenn': base_dir + '/coll_glenn.png',\n",
    "        'Rick': base_dir + '/coll_rick.jpg',\n",
    "        'Michonne': base_dir + '/coll_michonne.jpg',\n",
    "        'Negan': base_dir + '/coll_negan.jpg',\n",
    "        'Turma': base_dir + '/coll_turma.jpg'\n",
    "    }\n",
    "    for ext_id, image_name in faces.items():\n",
    "        response = client.index_faces(\n",
    "            CollectionId='Funcionarios',\n",
    "            Image={ 'Bytes': load_image( image_name ) },\n",
    "            ExternalImageId=ext_id,\n",
    "        )\n",
    "        if len(response['FaceRecords']) > 0:\n",
    "            for i in response['FaceRecords']:\n",
    "                print( ext_id, i['Face']['FaceId'])\n",
    "except Exception as e:\n",
    "    print(e)"
   ]
  },
  {
   "cell_type": "markdown",
   "metadata": {},
   "source": [
    "### Ok. Now that our collection is ready, let's see it's content"
   ]
  },
  {
   "cell_type": "code",
   "execution_count": null,
   "metadata": {},
   "outputs": [],
   "source": [
    "faces = {}\n",
    "bboxes = {}\n",
    "counter = 1\n",
    "for face in client.list_faces( CollectionId='Funcionarios', MaxResults=20 )['Faces']:\n",
    "    if faces.get( face['ExternalImageId'] ) == None: \n",
    "        faces[ face['ExternalImageId'] ] = []\n",
    "    faces[ face['ExternalImageId'] ].append( face['FaceId'] )\n",
    "    bboxes[ face['ExternalImageId'] ] = face['BoundingBox']\n",
    "    counter += 1"
   ]
  },
  {
   "cell_type": "code",
   "execution_count": null,
   "metadata": {},
   "outputs": [],
   "source": [
    "print( \"FaceId: {}\".format( faces['Glenn'][0] ) )\n",
    "img = Image.open( base_dir + '/coll_glenn.png' )\n",
    "draw_bounding_box(base_dir + '/coll_glenn.png', create_bounding_box( bboxes['Glenn'], img.size ) )"
   ]
  },
  {
   "cell_type": "code",
   "execution_count": null,
   "metadata": {},
   "outputs": [],
   "source": [
    "print( \"FaceId: {}\".format( faces['Rick'][0] ) )\n",
    "img = Image.open( base_dir + '/coll_rick.jpg' )\n",
    "draw_bounding_box(base_dir + '/coll_rick.jpg', create_bounding_box( bboxes['Rick'], img.size ) )"
   ]
  },
  {
   "cell_type": "code",
   "execution_count": null,
   "metadata": {},
   "outputs": [],
   "source": [
    "print( \"FaceId: {}\".format( faces['Michonne'][0] ) )\n",
    "img = Image.open( base_dir + '/coll_michonne.jpg' )\n",
    "draw_bounding_box(base_dir + '/coll_michonne.jpg', create_bounding_box( bboxes['Michonne'], img.size ) )"
   ]
  },
  {
   "cell_type": "code",
   "execution_count": null,
   "metadata": {},
   "outputs": [],
   "source": [
    "print( \"FaceId: {}\".format( faces['Negan'][0] ) )\n",
    "img = Image.open( base_dir + '/coll_negan.jpg' )\n",
    "draw_bounding_box(base_dir + '/coll_negan.jpg', create_bounding_box( bboxes['Negan'], img.size ) )"
   ]
  },
  {
   "cell_type": "code",
   "execution_count": null,
   "metadata": {},
   "outputs": [],
   "source": [
    "disp.Image(base_dir + '/coll_turma_thumb.jpg' )"
   ]
  },
  {
   "cell_type": "code",
   "execution_count": null,
   "metadata": {},
   "outputs": [],
   "source": [
    "face_counter = 1\n",
    "for faceid in faces['Turma']:\n",
    "    print( \"FaceId{}: {}\".format( face_counter, faceid ) )\n",
    "    face_counter += 1"
   ]
  },
  {
   "cell_type": "markdown",
   "metadata": {},
   "source": [
    "### Now, let's search for Michonne in the collection - client.search_faces()"
   ]
  },
  {
   "cell_type": "code",
   "execution_count": null,
   "metadata": {},
   "outputs": [],
   "source": [
    "id_michonne = faces['Michonne'][0]\n",
    "metadata = client.search_faces(\n",
    "    CollectionId='Funcionarios',\n",
    "    FaceId=id_michonne,\n",
    "    MaxFaces=20\n",
    ")['FaceMatches'][0]\n",
    "print( 'Similarity: {}'.format( metadata['Similarity'] ) )\n",
    "img = Image.open( base_dir + '/coll_turma.jpg' )\n",
    "draw_bounding_box(base_dir + '/coll_turma.jpg', create_bounding_box( metadata['Face']['BoundingBox'], img.size ) )"
   ]
  },
  {
   "cell_type": "markdown",
   "metadata": {},
   "source": [
    "### Then, let's try to find Glenn by using another picture - client.search_faces_by_image()"
   ]
  },
  {
   "cell_type": "code",
   "execution_count": null,
   "metadata": {},
   "outputs": [],
   "source": [
    "disp.Image(base_dir + '/coll_glenn2_thumb.jpg' )"
   ]
  },
  {
   "cell_type": "code",
   "execution_count": null,
   "metadata": {},
   "outputs": [],
   "source": [
    "faces = client.search_faces_by_image(\n",
    "    CollectionId='Funcionarios',\n",
    "    Image={ 'Bytes': load_image( base_dir + '/coll_glenn2.jpg') },\n",
    "    MaxFaces=20\n",
    ")['FaceMatches']\n",
    "print( '# Mached faces in the collection: {}'.format( len(faces)))"
   ]
  },
  {
   "cell_type": "markdown",
   "metadata": {},
   "source": [
    "### We found Glenn in which pictures?"
   ]
  },
  {
   "cell_type": "code",
   "execution_count": null,
   "metadata": {},
   "outputs": [],
   "source": [
    "print( 'Similarity: {}'.format( faces[0]['Similarity'] ) )\n",
    "img = Image.open( base_dir + '/coll_glenn.png' )\n",
    "draw_bounding_box(base_dir + '/coll_glenn.png', create_bounding_box( faces[0]['Face']['BoundingBox'], img.size ) )"
   ]
  },
  {
   "cell_type": "code",
   "execution_count": null,
   "metadata": {},
   "outputs": [],
   "source": [
    "print( 'Similarity: {}'.format( faces[1]['Similarity'] ) )\n",
    "img = Image.open( base_dir + '/coll_turma.jpg' )\n",
    "draw_bounding_box(base_dir + '/coll_turma.jpg', create_bounding_box( faces[1]['Face']['BoundingBox'], img.size ) )"
   ]
  },
  {
   "cell_type": "markdown",
   "metadata": {},
   "source": [
    "### Alright. Now let's see what happens if we use an unknown face (for the collection) for searching"
   ]
  },
  {
   "cell_type": "code",
   "execution_count": null,
   "metadata": {},
   "outputs": [],
   "source": [
    "faces = client.search_faces_by_image(\n",
    "    CollectionId='Funcionarios',\n",
    "    Image={ 'Bytes': load_image( base_dir + '/ju_paes.jpg') },\n",
    "    MaxFaces=20\n",
    ")['FaceMatches']\n",
    "print( '# Mached faces in the collection: {}'.format( len(faces)))"
   ]
  },
  {
   "cell_type": "markdown",
   "metadata": {},
   "source": [
    "# Text in Image client.detect_text()"
   ]
  },
  {
   "cell_type": "code",
   "execution_count": null,
   "metadata": {},
   "outputs": [],
   "source": [
    "disp.Image(base_dir + '/dr_evil.jpg' )"
   ]
  },
  {
   "cell_type": "code",
   "execution_count": null,
   "metadata": {},
   "outputs": [],
   "source": [
    "response = client.detect_text(\n",
    "    Image={ 'Bytes': load_image( base_dir + '/dr_evil.jpg') },\n",
    ")\n",
    "for i in response['TextDetections']:\n",
    "    print( 'Text[%s] Confidence[%f]' % (i['DetectedText'], i['Confidence']) )"
   ]
  },
  {
   "cell_type": "markdown",
   "metadata": {},
   "source": [
    "# Video Analysis"
   ]
  },
  {
   "cell_type": "markdown",
   "metadata": {},
   "source": [
    "Now, right click and 'Save link as' on the following link:\n",
    "<a href=\"star_wars.mp4\">Star Wars</a><br>\n",
    "Go to the Rekognition console and upload it to see the new Video Analysis functionality."
   ]
  },
  {
   "cell_type": "markdown",
   "metadata": {},
   "source": [
    "# The end :)"
   ]
  },
  {
   "cell_type": "code",
   "execution_count": null,
   "metadata": {},
   "outputs": [],
   "source": [
    "disp.Image(base_dir + '/the_end_thumb.jpg' )"
   ]
  },
  {
   "cell_type": "markdown",
   "metadata": {},
   "source": [
    "# Clean up"
   ]
  },
  {
   "cell_type": "code",
   "execution_count": null,
   "metadata": {},
   "outputs": [],
   "source": [
    "delete_collection(\"Funcionarios\")"
   ]
  },
  {
   "cell_type": "code",
   "execution_count": null,
   "metadata": {},
   "outputs": [],
   "source": [
    "!rm -rf $base_dir"
   ]
  },
  {
   "cell_type": "code",
   "execution_count": null,
   "metadata": {},
   "outputs": [],
   "source": []
  }
 ],
 "metadata": {
  "kernelspec": {
   "display_name": "Python 3",
   "language": "python",
   "name": "python3"
  },
  "language_info": {
   "codemirror_mode": {
    "name": "ipython",
    "version": 3
   },
   "file_extension": ".py",
   "mimetype": "text/x-python",
   "name": "python",
   "nbconvert_exporter": "python",
   "pygments_lexer": "ipython3",
   "version": "3.7.4"
  }
 },
 "nbformat": 4,
 "nbformat_minor": 2
}
