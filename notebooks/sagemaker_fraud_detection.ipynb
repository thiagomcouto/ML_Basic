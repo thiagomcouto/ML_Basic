{
 "cells": [
  {
   "cell_type": "markdown",
   "metadata": {},
   "source": [
    "# Credit card fraud detector using Amazon SageMaker"
   ]
  },
  {
   "cell_type": "markdown",
   "metadata": {},
   "source": [
    "## Investigate and process the data"
   ]
  },
  {
   "cell_type": "code",
   "execution_count": 3,
   "metadata": {},
   "outputs": [
    {
     "name": "stdout",
     "output_type": "stream",
     "text": [
      "Archive:  creditcard.csv.zip\n",
      "  inflating: creditcard.csv          \n"
     ]
    }
   ],
   "source": [
    "!unzip creditcard.csv.zip"
   ]
  },
  {
   "cell_type": "markdown",
   "metadata": {},
   "source": [
    "Let's start by downloading the dataset from: https://www.kaggle.com/mlg-ulb/creditcardfraud?select=creditcard.csv and upload it into the notebook file system as creditcard.csv."
   ]
  },
  {
   "cell_type": "code",
   "execution_count": 4,
   "metadata": {},
   "outputs": [],
   "source": [
    "import numpy as np \n",
    "import pandas as pd\n",
    "\n",
    "data = pd.read_csv('creditcard.csv', delimiter=',')"
   ]
  },
  {
   "cell_type": "markdown",
   "metadata": {},
   "source": [
    "Let's take a peek at our data (we only show a subset of the columns in the table):"
   ]
  },
  {
   "cell_type": "code",
   "execution_count": 5,
   "metadata": {},
   "outputs": [
    {
     "name": "stdout",
     "output_type": "stream",
     "text": [
      "Index(['Time', 'V1', 'V2', 'V3', 'V4', 'V5', 'V6', 'V7', 'V8', 'V9', 'V10',\n",
      "       'V11', 'V12', 'V13', 'V14', 'V15', 'V16', 'V17', 'V18', 'V19', 'V20',\n",
      "       'V21', 'V22', 'V23', 'V24', 'V25', 'V26', 'V27', 'V28', 'Amount',\n",
      "       'Class'],\n",
      "      dtype='object')\n"
     ]
    },
    {
     "data": {
      "text/html": [
       "<div>\n",
       "<style scoped>\n",
       "    .dataframe tbody tr th:only-of-type {\n",
       "        vertical-align: middle;\n",
       "    }\n",
       "\n",
       "    .dataframe tbody tr th {\n",
       "        vertical-align: top;\n",
       "    }\n",
       "\n",
       "    .dataframe thead th {\n",
       "        text-align: right;\n",
       "    }\n",
       "</style>\n",
       "<table border=\"1\" class=\"dataframe\">\n",
       "  <thead>\n",
       "    <tr style=\"text-align: right;\">\n",
       "      <th></th>\n",
       "      <th>Time</th>\n",
       "      <th>V1</th>\n",
       "      <th>V2</th>\n",
       "      <th>V27</th>\n",
       "      <th>V28</th>\n",
       "      <th>Amount</th>\n",
       "      <th>Class</th>\n",
       "    </tr>\n",
       "  </thead>\n",
       "  <tbody>\n",
       "    <tr>\n",
       "      <th>count</th>\n",
       "      <td>284807.000000</td>\n",
       "      <td>2.848070e+05</td>\n",
       "      <td>2.848070e+05</td>\n",
       "      <td>2.848070e+05</td>\n",
       "      <td>2.848070e+05</td>\n",
       "      <td>284807.000000</td>\n",
       "      <td>284807.000000</td>\n",
       "    </tr>\n",
       "    <tr>\n",
       "      <th>mean</th>\n",
       "      <td>94813.859575</td>\n",
       "      <td>3.919560e-15</td>\n",
       "      <td>5.688174e-16</td>\n",
       "      <td>-3.660161e-16</td>\n",
       "      <td>-1.206049e-16</td>\n",
       "      <td>88.349619</td>\n",
       "      <td>0.001727</td>\n",
       "    </tr>\n",
       "    <tr>\n",
       "      <th>std</th>\n",
       "      <td>47488.145955</td>\n",
       "      <td>1.958696e+00</td>\n",
       "      <td>1.651309e+00</td>\n",
       "      <td>4.036325e-01</td>\n",
       "      <td>3.300833e-01</td>\n",
       "      <td>250.120109</td>\n",
       "      <td>0.041527</td>\n",
       "    </tr>\n",
       "    <tr>\n",
       "      <th>min</th>\n",
       "      <td>0.000000</td>\n",
       "      <td>-5.640751e+01</td>\n",
       "      <td>-7.271573e+01</td>\n",
       "      <td>-2.256568e+01</td>\n",
       "      <td>-1.543008e+01</td>\n",
       "      <td>0.000000</td>\n",
       "      <td>0.000000</td>\n",
       "    </tr>\n",
       "    <tr>\n",
       "      <th>25%</th>\n",
       "      <td>54201.500000</td>\n",
       "      <td>-9.203734e-01</td>\n",
       "      <td>-5.985499e-01</td>\n",
       "      <td>-7.083953e-02</td>\n",
       "      <td>-5.295979e-02</td>\n",
       "      <td>5.600000</td>\n",
       "      <td>0.000000</td>\n",
       "    </tr>\n",
       "    <tr>\n",
       "      <th>50%</th>\n",
       "      <td>84692.000000</td>\n",
       "      <td>1.810880e-02</td>\n",
       "      <td>6.548556e-02</td>\n",
       "      <td>1.342146e-03</td>\n",
       "      <td>1.124383e-02</td>\n",
       "      <td>22.000000</td>\n",
       "      <td>0.000000</td>\n",
       "    </tr>\n",
       "    <tr>\n",
       "      <th>75%</th>\n",
       "      <td>139320.500000</td>\n",
       "      <td>1.315642e+00</td>\n",
       "      <td>8.037239e-01</td>\n",
       "      <td>9.104512e-02</td>\n",
       "      <td>7.827995e-02</td>\n",
       "      <td>77.165000</td>\n",
       "      <td>0.000000</td>\n",
       "    </tr>\n",
       "    <tr>\n",
       "      <th>max</th>\n",
       "      <td>172792.000000</td>\n",
       "      <td>2.454930e+00</td>\n",
       "      <td>2.205773e+01</td>\n",
       "      <td>3.161220e+01</td>\n",
       "      <td>3.384781e+01</td>\n",
       "      <td>25691.160000</td>\n",
       "      <td>1.000000</td>\n",
       "    </tr>\n",
       "  </tbody>\n",
       "</table>\n",
       "</div>"
      ],
      "text/plain": [
       "                Time            V1            V2           V27           V28  \\\n",
       "count  284807.000000  2.848070e+05  2.848070e+05  2.848070e+05  2.848070e+05   \n",
       "mean    94813.859575  3.919560e-15  5.688174e-16 -3.660161e-16 -1.206049e-16   \n",
       "std     47488.145955  1.958696e+00  1.651309e+00  4.036325e-01  3.300833e-01   \n",
       "min         0.000000 -5.640751e+01 -7.271573e+01 -2.256568e+01 -1.543008e+01   \n",
       "25%     54201.500000 -9.203734e-01 -5.985499e-01 -7.083953e-02 -5.295979e-02   \n",
       "50%     84692.000000  1.810880e-02  6.548556e-02  1.342146e-03  1.124383e-02   \n",
       "75%    139320.500000  1.315642e+00  8.037239e-01  9.104512e-02  7.827995e-02   \n",
       "max    172792.000000  2.454930e+00  2.205773e+01  3.161220e+01  3.384781e+01   \n",
       "\n",
       "              Amount          Class  \n",
       "count  284807.000000  284807.000000  \n",
       "mean       88.349619       0.001727  \n",
       "std       250.120109       0.041527  \n",
       "min         0.000000       0.000000  \n",
       "25%         5.600000       0.000000  \n",
       "50%        22.000000       0.000000  \n",
       "75%        77.165000       0.000000  \n",
       "max     25691.160000       1.000000  "
      ]
     },
     "execution_count": 5,
     "metadata": {},
     "output_type": "execute_result"
    }
   ],
   "source": [
    "print(data.columns)\n",
    "data[['Time', 'V1', 'V2', 'V27', 'V28', 'Amount', 'Class']].describe()"
   ]
  },
  {
   "cell_type": "markdown",
   "metadata": {},
   "source": [
    "The class column corresponds to whether or not a transaction is fradulent. We see that the majority of data is non-fraudulent with only $492$ ($.173\\%$) of the data corresponding to fraudulent examples."
   ]
  },
  {
   "cell_type": "code",
   "execution_count": 6,
   "metadata": {},
   "outputs": [
    {
     "name": "stdout",
     "output_type": "stream",
     "text": [
      "Number of frauds:  492\n",
      "Number of non-frauds:  284315\n",
      "Percentage of fradulent data: 0.1727485630620034\n"
     ]
    }
   ],
   "source": [
    "nonfrauds, frauds = data.groupby('Class').size()\n",
    "print('Number of frauds: ', frauds)\n",
    "print('Number of non-frauds: ', nonfrauds)\n",
    "print('Percentage of fradulent data:', 100.*frauds/(frauds + nonfrauds))"
   ]
  },
  {
   "cell_type": "markdown",
   "metadata": {},
   "source": [
    "This dataset has 28 columns, $V_i$ for $i=1..28$ of anonymized features along with columns for time, amount, and class. We already know that the columns $V_i$ have been normalized to have $0$ mean and unit standard deviation as the result of a PCA."
   ]
  },
  {
   "cell_type": "code",
   "execution_count": 7,
   "metadata": {},
   "outputs": [],
   "source": [
    "feature_columns = data.columns[:-1]\n",
    "label_column = data.columns[-1]\n",
    "\n",
    "features = data[feature_columns].values.astype('float32')\n",
    "labels = (data[label_column].values).astype('float32')"
   ]
  },
  {
   "cell_type": "markdown",
   "metadata": {},
   "source": [
    "Next, we will prepare our data for loading and training."
   ]
  },
  {
   "cell_type": "markdown",
   "metadata": {},
   "source": [
    "## Training"
   ]
  },
  {
   "cell_type": "markdown",
   "metadata": {},
   "source": [
    "We will split our dataset into a train and test to evaluate the performance of our models. It's important to do so _before_ any techniques meant to alleviate the class imbalance are used. This ensures that we don't leak information from the test set into the train set."
   ]
  },
  {
   "cell_type": "code",
   "execution_count": 8,
   "metadata": {},
   "outputs": [],
   "source": [
    "from sklearn.model_selection import train_test_split\n",
    "\n",
    "X_train, X_test, y_train, y_test = train_test_split(\n",
    "    features, labels, test_size=0.1, random_state=42)"
   ]
  },
  {
   "cell_type": "markdown",
   "metadata": {},
   "source": [
    "## Unsupervised Learning"
   ]
  },
  {
   "cell_type": "markdown",
   "metadata": {},
   "source": [
    "In a fraud detection scenario, commonly we will have very few labeled examples, and it's possible that labeling fraud takes a very long time. We would like then to extract information from the unlabeled data we have at hand as well. _Anomaly detection_ is a form of unsupervised learning where we try to identify anomalous examples based solely on their feature characteristics. Random Cut Forest is a state-of-the-art anomaly detection algorithm that is both accurate and scalable. We will train such a model on our training data and evaluate its performance on our test set."
   ]
  },
  {
   "cell_type": "code",
   "execution_count": 9,
   "metadata": {},
   "outputs": [],
   "source": [
    "import boto3\n",
    "import os\n",
    "import sagemaker\n",
    "from sagemaker import get_execution_role\n",
    "\n",
    "session = sagemaker.Session()\n",
    "bucket = session.default_bucket()\n",
    "prefix = 'fraud-classifier'"
   ]
  },
  {
   "cell_type": "code",
   "execution_count": 10,
   "metadata": {},
   "outputs": [],
   "source": [
    "from sagemaker import RandomCutForest\n",
    "\n",
    "# specify general training job information\n",
    "rcf = RandomCutForest(role=get_execution_role(),\n",
    "                      train_instance_count=1,\n",
    "                      train_instance_type='ml.c4.xlarge',\n",
    "                      data_location='s3://{}/{}/'.format(bucket, prefix),\n",
    "                      output_path='s3://{}/{}/output'.format(bucket, prefix),\n",
    "                      num_samples_per_tree=512,\n",
    "                      num_trees=50)"
   ]
  },
  {
   "cell_type": "code",
   "execution_count": 11,
   "metadata": {},
   "outputs": [
    {
     "name": "stderr",
     "output_type": "stream",
     "text": [
      "'get_image_uri' method will be deprecated in favor of 'ImageURIProvider' class in SageMaker Python SDK v2.\n",
      "'s3_input' class will be renamed to 'TrainingInput' in SageMaker Python SDK v2.\n",
      "'get_image_uri' method will be deprecated in favor of 'ImageURIProvider' class in SageMaker Python SDK v2.\n"
     ]
    },
    {
     "name": "stdout",
     "output_type": "stream",
     "text": [
      "2021-06-23 23:00:18 Starting - Starting the training job...\n",
      "2021-06-23 23:00:21 Starting - Launching requested ML instances......\n",
      "2021-06-23 23:01:20 Starting - Preparing the instances for training......\n",
      "2021-06-23 23:02:30 Downloading - Downloading input data...\n",
      "2021-06-23 23:02:52 Training - Downloading the training image...\n",
      "2021-06-23 23:03:42 Uploading - Uploading generated training model\u001b[34mDocker entrypoint called with argument(s): train\u001b[0m\n",
      "\u001b[34mRunning default environment configuration script\u001b[0m\n",
      "\u001b[34m[06/23/2021 23:03:36 INFO 139796989982528] Reading default configuration from /opt/amazon/lib/python3.7/site-packages/algorithm/resources/default-conf.json: {'num_samples_per_tree': 256, 'num_trees': 100, 'force_dense': 'true', 'eval_metrics': ['accuracy', 'precision_recall_fscore'], 'epochs': 1, 'mini_batch_size': 1000, '_log_level': 'info', '_kvstore': 'dist_async', '_num_kv_servers': 'auto', '_num_gpus': 'auto', '_tuning_objective_metric': '', '_ftp_port': 8999}\u001b[0m\n",
      "\u001b[34m[06/23/2021 23:03:36 INFO 139796989982528] Merging with provided configuration from /opt/ml/input/config/hyperparameters.json: {'num_trees': '50', 'num_samples_per_tree': '512', 'feature_dim': '30', 'mini_batch_size': '1000'}\u001b[0m\n",
      "\u001b[34m[06/23/2021 23:03:36 INFO 139796989982528] Final configuration: {'num_samples_per_tree': '512', 'num_trees': '50', 'force_dense': 'true', 'eval_metrics': ['accuracy', 'precision_recall_fscore'], 'epochs': 1, 'mini_batch_size': '1000', '_log_level': 'info', '_kvstore': 'dist_async', '_num_kv_servers': 'auto', '_num_gpus': 'auto', '_tuning_objective_metric': '', '_ftp_port': 8999, 'feature_dim': '30'}\u001b[0m\n",
      "\u001b[34m[06/23/2021 23:03:36 WARNING 139796989982528] Loggers have already been setup.\u001b[0m\n",
      "\u001b[34m[06/23/2021 23:03:36 INFO 139796989982528] Launching parameter server for role scheduler\u001b[0m\n",
      "\u001b[34m[06/23/2021 23:03:36 INFO 139796989982528] {'ENVROOT': '/opt/amazon', 'PROTOCOL_BUFFERS_PYTHON_IMPLEMENTATION': 'cpp', 'HOSTNAME': 'ip-10-0-236-209.ec2.internal', 'TRAINING_JOB_NAME': 'randomcutforest-2021-06-23-23-00-18-134', 'NVIDIA_REQUIRE_CUDA': 'cuda>=9.0', 'TRAINING_JOB_ARN': 'arn:aws:sagemaker:us-east-1:345341212132:training-job/randomcutforest-2021-06-23-23-00-18-134', 'AWS_CONTAINER_CREDENTIALS_RELATIVE_URI': '/v2/credentials/058462d3-b8e7-406b-a575-cdf7b85c0260', 'CANONICAL_ENVROOT': '/opt/amazon', 'PYTHONUNBUFFERED': 'TRUE', 'NVIDIA_VISIBLE_DEVICES': 'void', 'LD_LIBRARY_PATH': '/opt/amazon/lib/python3.7/site-packages/cv2/../../../../lib:/usr/local/nvidia/lib64:/opt/amazon/lib', 'MXNET_KVSTORE_BIGARRAY_BOUND': '400000000', 'NVIDIA_DRIVER_CAPABILITIES': 'compute,utility', 'AWS_EXECUTION_ENV': 'AWS_ECS_EC2', 'PATH': '/opt/amazon/bin:/usr/local/nvidia/bin:/usr/local/sbin:/usr/local/bin:/usr/sbin:/usr/bin:/sbin:/bin:/opt/amazon/bin:/opt/amazon/bin', 'PWD': '/', 'LANG': 'en_US.utf8', 'SAGEMAKER_METRICS_DIRECTORY': '/opt/ml/output/metrics/sagemaker', 'AWS_REGION': 'us-east-1', 'HOME': '/root', 'SHLVL': '1', 'PROTOCOL_BUFFERS_PYTHON_IMPLEMENTATION_VERSION': '2', 'OMP_NUM_THREADS': '2', 'DMLC_INTERFACE': 'eth0', 'ECS_CONTAINER_METADATA_URI': 'http://169.254.170.2/v3/797d1fcc-6ccc-4c1f-943b-2d6cdcfcbb2f', 'ECS_CONTAINER_METADATA_URI_V4': 'http://169.254.170.2/v4/797d1fcc-6ccc-4c1f-943b-2d6cdcfcbb2f', 'SAGEMAKER_HTTP_PORT': '8080', 'SAGEMAKER_DATA_PATH': '/opt/ml', 'KMP_DUPLICATE_LIB_OK': 'True', 'KMP_INIT_AT_FORK': 'FALSE'}\u001b[0m\n",
      "\u001b[34m[06/23/2021 23:03:36 INFO 139796989982528] envs={'ENVROOT': '/opt/amazon', 'PROTOCOL_BUFFERS_PYTHON_IMPLEMENTATION': 'cpp', 'HOSTNAME': 'ip-10-0-236-209.ec2.internal', 'TRAINING_JOB_NAME': 'randomcutforest-2021-06-23-23-00-18-134', 'NVIDIA_REQUIRE_CUDA': 'cuda>=9.0', 'TRAINING_JOB_ARN': 'arn:aws:sagemaker:us-east-1:345341212132:training-job/randomcutforest-2021-06-23-23-00-18-134', 'AWS_CONTAINER_CREDENTIALS_RELATIVE_URI': '/v2/credentials/058462d3-b8e7-406b-a575-cdf7b85c0260', 'CANONICAL_ENVROOT': '/opt/amazon', 'PYTHONUNBUFFERED': 'TRUE', 'NVIDIA_VISIBLE_DEVICES': 'void', 'LD_LIBRARY_PATH': '/opt/amazon/lib/python3.7/site-packages/cv2/../../../../lib:/usr/local/nvidia/lib64:/opt/amazon/lib', 'MXNET_KVSTORE_BIGARRAY_BOUND': '400000000', 'NVIDIA_DRIVER_CAPABILITIES': 'compute,utility', 'AWS_EXECUTION_ENV': 'AWS_ECS_EC2', 'PATH': '/opt/amazon/bin:/usr/local/nvidia/bin:/usr/local/sbin:/usr/local/bin:/usr/sbin:/usr/bin:/sbin:/bin:/opt/amazon/bin:/opt/amazon/bin', 'PWD': '/', 'LANG': 'en_US.utf8', 'SAGEMAKER_METRICS_DIRECTORY': '/opt/ml/output/metrics/sagemaker', 'AWS_REGION': 'us-east-1', 'HOME': '/root', 'SHLVL': '1', 'PROTOCOL_BUFFERS_PYTHON_IMPLEMENTATION_VERSION': '2', 'OMP_NUM_THREADS': '2', 'DMLC_INTERFACE': 'eth0', 'ECS_CONTAINER_METADATA_URI': 'http://169.254.170.2/v3/797d1fcc-6ccc-4c1f-943b-2d6cdcfcbb2f', 'ECS_CONTAINER_METADATA_URI_V4': 'http://169.254.170.2/v4/797d1fcc-6ccc-4c1f-943b-2d6cdcfcbb2f', 'SAGEMAKER_HTTP_PORT': '8080', 'SAGEMAKER_DATA_PATH': '/opt/ml', 'KMP_DUPLICATE_LIB_OK': 'True', 'KMP_INIT_AT_FORK': 'FALSE', 'DMLC_ROLE': 'scheduler', 'DMLC_PS_ROOT_URI': '10.0.236.209', 'DMLC_PS_ROOT_PORT': '9000', 'DMLC_NUM_SERVER': '1', 'DMLC_NUM_WORKER': '1'}\u001b[0m\n",
      "\u001b[34m[06/23/2021 23:03:36 INFO 139796989982528] Launching parameter server for role server\u001b[0m\n",
      "\u001b[34m[06/23/2021 23:03:36 INFO 139796989982528] {'ENVROOT': '/opt/amazon', 'PROTOCOL_BUFFERS_PYTHON_IMPLEMENTATION': 'cpp', 'HOSTNAME': 'ip-10-0-236-209.ec2.internal', 'TRAINING_JOB_NAME': 'randomcutforest-2021-06-23-23-00-18-134', 'NVIDIA_REQUIRE_CUDA': 'cuda>=9.0', 'TRAINING_JOB_ARN': 'arn:aws:sagemaker:us-east-1:345341212132:training-job/randomcutforest-2021-06-23-23-00-18-134', 'AWS_CONTAINER_CREDENTIALS_RELATIVE_URI': '/v2/credentials/058462d3-b8e7-406b-a575-cdf7b85c0260', 'CANONICAL_ENVROOT': '/opt/amazon', 'PYTHONUNBUFFERED': 'TRUE', 'NVIDIA_VISIBLE_DEVICES': 'void', 'LD_LIBRARY_PATH': '/opt/amazon/lib/python3.7/site-packages/cv2/../../../../lib:/usr/local/nvidia/lib64:/opt/amazon/lib', 'MXNET_KVSTORE_BIGARRAY_BOUND': '400000000', 'NVIDIA_DRIVER_CAPABILITIES': 'compute,utility', 'AWS_EXECUTION_ENV': 'AWS_ECS_EC2', 'PATH': '/opt/amazon/bin:/usr/local/nvidia/bin:/usr/local/sbin:/usr/local/bin:/usr/sbin:/usr/bin:/sbin:/bin:/opt/amazon/bin:/opt/amazon/bin', 'PWD': '/', 'LANG': 'en_US.utf8', 'SAGEMAKER_METRICS_DIRECTORY': '/opt/ml/output/metrics/sagemaker', 'AWS_REGION': 'us-east-1', 'HOME': '/root', 'SHLVL': '1', 'PROTOCOL_BUFFERS_PYTHON_IMPLEMENTATION_VERSION': '2', 'OMP_NUM_THREADS': '2', 'DMLC_INTERFACE': 'eth0', 'ECS_CONTAINER_METADATA_URI': 'http://169.254.170.2/v3/797d1fcc-6ccc-4c1f-943b-2d6cdcfcbb2f', 'ECS_CONTAINER_METADATA_URI_V4': 'http://169.254.170.2/v4/797d1fcc-6ccc-4c1f-943b-2d6cdcfcbb2f', 'SAGEMAKER_HTTP_PORT': '8080', 'SAGEMAKER_DATA_PATH': '/opt/ml', 'KMP_DUPLICATE_LIB_OK': 'True', 'KMP_INIT_AT_FORK': 'FALSE'}\u001b[0m\n",
      "\u001b[34m[06/23/2021 23:03:36 INFO 139796989982528] envs={'ENVROOT': '/opt/amazon', 'PROTOCOL_BUFFERS_PYTHON_IMPLEMENTATION': 'cpp', 'HOSTNAME': 'ip-10-0-236-209.ec2.internal', 'TRAINING_JOB_NAME': 'randomcutforest-2021-06-23-23-00-18-134', 'NVIDIA_REQUIRE_CUDA': 'cuda>=9.0', 'TRAINING_JOB_ARN': 'arn:aws:sagemaker:us-east-1:345341212132:training-job/randomcutforest-2021-06-23-23-00-18-134', 'AWS_CONTAINER_CREDENTIALS_RELATIVE_URI': '/v2/credentials/058462d3-b8e7-406b-a575-cdf7b85c0260', 'CANONICAL_ENVROOT': '/opt/amazon', 'PYTHONUNBUFFERED': 'TRUE', 'NVIDIA_VISIBLE_DEVICES': 'void', 'LD_LIBRARY_PATH': '/opt/amazon/lib/python3.7/site-packages/cv2/../../../../lib:/usr/local/nvidia/lib64:/opt/amazon/lib', 'MXNET_KVSTORE_BIGARRAY_BOUND': '400000000', 'NVIDIA_DRIVER_CAPABILITIES': 'compute,utility', 'AWS_EXECUTION_ENV': 'AWS_ECS_EC2', 'PATH': '/opt/amazon/bin:/usr/local/nvidia/bin:/usr/local/sbin:/usr/local/bin:/usr/sbin:/usr/bin:/sbin:/bin:/opt/amazon/bin:/opt/amazon/bin', 'PWD': '/', 'LANG': 'en_US.utf8', 'SAGEMAKER_METRICS_DIRECTORY': '/opt/ml/output/metrics/sagemaker', 'AWS_REGION': 'us-east-1', 'HOME': '/root', 'SHLVL': '1', 'PROTOCOL_BUFFERS_PYTHON_IMPLEMENTATION_VERSION': '2', 'OMP_NUM_THREADS': '2', 'DMLC_INTERFACE': 'eth0', 'ECS_CONTAINER_METADATA_URI': 'http://169.254.170.2/v3/797d1fcc-6ccc-4c1f-943b-2d6cdcfcbb2f', 'ECS_CONTAINER_METADATA_URI_V4': 'http://169.254.170.2/v4/797d1fcc-6ccc-4c1f-943b-2d6cdcfcbb2f', 'SAGEMAKER_HTTP_PORT': '8080', 'SAGEMAKER_DATA_PATH': '/opt/ml', 'KMP_DUPLICATE_LIB_OK': 'True', 'KMP_INIT_AT_FORK': 'FALSE', 'DMLC_ROLE': 'server', 'DMLC_PS_ROOT_URI': '10.0.236.209', 'DMLC_PS_ROOT_PORT': '9000', 'DMLC_NUM_SERVER': '1', 'DMLC_NUM_WORKER': '1'}\u001b[0m\n",
      "\u001b[34m[06/23/2021 23:03:36 INFO 139796989982528] Environment: {'ENVROOT': '/opt/amazon', 'PROTOCOL_BUFFERS_PYTHON_IMPLEMENTATION': 'cpp', 'HOSTNAME': 'ip-10-0-236-209.ec2.internal', 'TRAINING_JOB_NAME': 'randomcutforest-2021-06-23-23-00-18-134', 'NVIDIA_REQUIRE_CUDA': 'cuda>=9.0', 'TRAINING_JOB_ARN': 'arn:aws:sagemaker:us-east-1:345341212132:training-job/randomcutforest-2021-06-23-23-00-18-134', 'AWS_CONTAINER_CREDENTIALS_RELATIVE_URI': '/v2/credentials/058462d3-b8e7-406b-a575-cdf7b85c0260', 'CANONICAL_ENVROOT': '/opt/amazon', 'PYTHONUNBUFFERED': 'TRUE', 'NVIDIA_VISIBLE_DEVICES': 'void', 'LD_LIBRARY_PATH': '/opt/amazon/lib/python3.7/site-packages/cv2/../../../../lib:/usr/local/nvidia/lib64:/opt/amazon/lib', 'MXNET_KVSTORE_BIGARRAY_BOUND': '400000000', 'NVIDIA_DRIVER_CAPABILITIES': 'compute,utility', 'AWS_EXECUTION_ENV': 'AWS_ECS_EC2', 'PATH': '/opt/amazon/bin:/usr/local/nvidia/bin:/usr/local/sbin:/usr/local/bin:/usr/sbin:/usr/bin:/sbin:/bin:/opt/amazon/bin:/opt/amazon/bin', 'PWD': '/', 'LANG': 'en_US.utf8', 'SAGEMAKER_METRICS_DIRECTORY': '/opt/ml/output/metrics/sagemaker', 'AWS_REGION': 'us-east-1', 'HOME': '/root', 'SHLVL': '1', 'PROTOCOL_BUFFERS_PYTHON_IMPLEMENTATION_VERSION': '2', 'OMP_NUM_THREADS': '2', 'DMLC_INTERFACE': 'eth0', 'ECS_CONTAINER_METADATA_URI': 'http://169.254.170.2/v3/797d1fcc-6ccc-4c1f-943b-2d6cdcfcbb2f', 'ECS_CONTAINER_METADATA_URI_V4': 'http://169.254.170.2/v4/797d1fcc-6ccc-4c1f-943b-2d6cdcfcbb2f', 'SAGEMAKER_HTTP_PORT': '8080', 'SAGEMAKER_DATA_PATH': '/opt/ml', 'KMP_DUPLICATE_LIB_OK': 'True', 'KMP_INIT_AT_FORK': 'FALSE', 'DMLC_ROLE': 'worker', 'DMLC_PS_ROOT_URI': '10.0.236.209', 'DMLC_PS_ROOT_PORT': '9000', 'DMLC_NUM_SERVER': '1', 'DMLC_NUM_WORKER': '1'}\u001b[0m\n",
      "\u001b[34mProcess 33 is a shell:scheduler.\u001b[0m\n",
      "\u001b[34mProcess 45 is a shell:server.\u001b[0m\n",
      "\u001b[34mProcess 1 is a worker.\u001b[0m\n",
      "\u001b[34m[06/23/2021 23:03:36 INFO 139796989982528] Using default worker.\u001b[0m\n",
      "\u001b[34m[06/23/2021 23:03:36 INFO 139796989982528] Loaded iterator creator application/x-recordio-protobuf for content type ('application/x-recordio-protobuf', '1.0')\u001b[0m\n",
      "\u001b[34m[06/23/2021 23:03:36 INFO 139796989982528] Checkpoint loading and saving are disabled.\u001b[0m\n",
      "\u001b[34m[06/23/2021 23:03:36 INFO 139796989982528] Verifying hyperparamemters...\u001b[0m\n",
      "\u001b[34m[06/23/2021 23:03:36 INFO 139796989982528] Hyperparameters are correct.\u001b[0m\n",
      "\u001b[34m[06/23/2021 23:03:36 INFO 139796989982528] Validating that feature_dim agrees with dimensions in training data...\u001b[0m\n",
      "\u001b[34m[06/23/2021 23:03:36 INFO 139796989982528] feature_dim is correct.\u001b[0m\n",
      "\u001b[34m[06/23/2021 23:03:36 INFO 139796989982528] Validating memory limits...\u001b[0m\n",
      "\u001b[34m[06/23/2021 23:03:36 INFO 139796989982528] Available memory in bytes: 6236450816\u001b[0m\n",
      "\u001b[34m[06/23/2021 23:03:36 INFO 139796989982528] Estimated sample size in bytes: 6144000\u001b[0m\n",
      "\u001b[34m[06/23/2021 23:03:36 INFO 139796989982528] Estimated memory needed to build the forest in bytes: 30720000\u001b[0m\n",
      "\u001b[34m[06/23/2021 23:03:36 INFO 139796989982528] Memory limits validated.\u001b[0m\n",
      "\u001b[34m[06/23/2021 23:03:36 INFO 139796989982528] Starting cluster sharing facilities...\u001b[0m\n",
      "\u001b[34m[06/23/2021 23:03:36 INFO 139796989982528] Create Store: dist_async\u001b[0m\n",
      "\u001b[34m[06/23/2021 23:03:36 INFO 139795204400896] >>> starting FTP server on 0.0.0.0:8999, pid=1 <<<\u001b[0m\n",
      "\u001b[34m[I 21-06-23 23:03:36] >>> starting FTP server on 0.0.0.0:8999, pid=1 <<<\u001b[0m\n",
      "\u001b[34m[I 21-06-23 23:03:36] poller: <class 'pyftpdlib.ioloop.Epoll'>\u001b[0m\n",
      "\u001b[34m[06/23/2021 23:03:36 INFO 139795204400896] poller: <class 'pyftpdlib.ioloop.Epoll'>\u001b[0m\n",
      "\u001b[34m[I 21-06-23 23:03:36] masquerade (NAT) address: None\u001b[0m\n",
      "\u001b[34m[06/23/2021 23:03:36 INFO 139795204400896] masquerade (NAT) address: None\u001b[0m\n",
      "\u001b[34m[I 21-06-23 23:03:36] passive ports: None\u001b[0m\n",
      "\u001b[34m[06/23/2021 23:03:36 INFO 139795204400896] passive ports: None\u001b[0m\n",
      "\u001b[34m[I 21-06-23 23:03:36] use sendfile(2): True\u001b[0m\n",
      "\u001b[34m[06/23/2021 23:03:36 INFO 139795204400896] use sendfile(2): True\u001b[0m\n",
      "\u001b[34m[06/23/2021 23:03:37 INFO 139796989982528] Cluster sharing facilities started.\u001b[0m\n",
      "\u001b[34m[06/23/2021 23:03:37 INFO 139796989982528] Verifying all workers are accessible...\u001b[0m\n",
      "\u001b[34m[06/23/2021 23:03:37 INFO 139796989982528] All workers accessible.\u001b[0m\n",
      "\u001b[34m[06/23/2021 23:03:37 INFO 139796989982528] Initializing Sampler...\u001b[0m\n",
      "\u001b[34m[06/23/2021 23:03:37 INFO 139796989982528] Sampler correctly initialized.\u001b[0m\n",
      "\u001b[34m#metrics {\"StartTime\": 1624489416.2075229, \"EndTime\": 1624489417.3947775, \"Dimensions\": {\"Algorithm\": \"RandomCutForest\", \"Host\": \"algo-1\", \"Operation\": \"training\"}, \"Metrics\": {\"initialize.time\": {\"sum\": 1179.3789863586426, \"count\": 1, \"min\": 1179.3789863586426, \"max\": 1179.3789863586426}}}\n",
      "\u001b[0m\n",
      "\u001b[34m#metrics {\"StartTime\": 1624489417.3949592, \"EndTime\": 1624489417.3949947, \"Dimensions\": {\"Algorithm\": \"RandomCutForest\", \"Host\": \"algo-1\", \"Operation\": \"training\", \"Meta\": \"init_train_data_iter\"}, \"Metrics\": {\"Total Records Seen\": {\"sum\": 0.0, \"count\": 1, \"min\": 0, \"max\": 0}, \"Total Batches Seen\": {\"sum\": 0.0, \"count\": 1, \"min\": 0, \"max\": 0}, \"Max Records Seen Between Resets\": {\"sum\": 0.0, \"count\": 1, \"min\": 0, \"max\": 0}, \"Max Batches Seen Between Resets\": {\"sum\": 0.0, \"count\": 1, \"min\": 0, \"max\": 0}, \"Reset Count\": {\"sum\": 0.0, \"count\": 1, \"min\": 0, \"max\": 0}, \"Number of Records Since Last Reset\": {\"sum\": 0.0, \"count\": 1, \"min\": 0, \"max\": 0}, \"Number of Batches Since Last Reset\": {\"sum\": 0.0, \"count\": 1, \"min\": 0, \"max\": 0}}}\n",
      "\u001b[0m\n",
      "\u001b[34m[2021-06-23 23:03:37.395] [tensorio] [info] epoch_stats={\"data_pipeline\": \"/opt/ml/input/data/train\", \"epoch\": 0, \"duration\": 1187, \"num_examples\": 1, \"num_bytes\": 148000}\u001b[0m\n",
      "\u001b[34m[06/23/2021 23:03:37 INFO 139796989982528] Sampling training data...\u001b[0m\n",
      "\u001b[34m[2021-06-23 23:03:37.734] [tensorio] [info] epoch_stats={\"data_pipeline\": \"/opt/ml/input/data/train\", \"epoch\": 1, \"duration\": 338, \"num_examples\": 257, \"num_bytes\": 37936248}\u001b[0m\n",
      "\u001b[34m[06/23/2021 23:03:37 INFO 139796989982528] Sampling training data completed.\u001b[0m\n",
      "\u001b[34m#metrics {\"StartTime\": 1624489417.3949, \"EndTime\": 1624489417.7450492, \"Dimensions\": {\"Algorithm\": \"RandomCutForest\", \"Host\": \"algo-1\", \"Operation\": \"training\"}, \"Metrics\": {\"epochs\": {\"sum\": 1.0, \"count\": 1, \"min\": 1, \"max\": 1}, \"update.time\": {\"sum\": 349.60269927978516, \"count\": 1, \"min\": 349.60269927978516, \"max\": 349.60269927978516}}}\n",
      "\u001b[0m\n",
      "\u001b[34m[06/23/2021 23:03:37 INFO 139796989982528] Early stop condition met. Stopping training.\u001b[0m\n",
      "\u001b[34m[06/23/2021 23:03:37 INFO 139796989982528] #progress_metric: host=algo-1, completed 100 % epochs\u001b[0m\n",
      "\u001b[34m#metrics {\"StartTime\": 1624489417.3954155, \"EndTime\": 1624489417.745465, \"Dimensions\": {\"Algorithm\": \"RandomCutForest\", \"Host\": \"algo-1\", \"Operation\": \"training\", \"epoch\": 0, \"Meta\": \"training_data_iter\"}, \"Metrics\": {\"Total Records Seen\": {\"sum\": 256326.0, \"count\": 1, \"min\": 256326, \"max\": 256326}, \"Total Batches Seen\": {\"sum\": 257.0, \"count\": 1, \"min\": 257, \"max\": 257}, \"Max Records Seen Between Resets\": {\"sum\": 256326.0, \"count\": 1, \"min\": 256326, \"max\": 256326}, \"Max Batches Seen Between Resets\": {\"sum\": 257.0, \"count\": 1, \"min\": 257, \"max\": 257}, \"Reset Count\": {\"sum\": 1.0, \"count\": 1, \"min\": 1, \"max\": 1}, \"Number of Records Since Last Reset\": {\"sum\": 256326.0, \"count\": 1, \"min\": 256326, \"max\": 256326}, \"Number of Batches Since Last Reset\": {\"sum\": 257.0, \"count\": 1, \"min\": 257, \"max\": 257}}}\n",
      "\u001b[0m\n",
      "\u001b[34m[06/23/2021 23:03:37 INFO 139796989982528] #throughput_metric: host=algo-1, train throughput=732010.6509358231 records/second\u001b[0m\n",
      "\u001b[34m[06/23/2021 23:03:37 INFO 139796989982528] Master node: building Random Cut Forest...\u001b[0m\n",
      "\u001b[34m[06/23/2021 23:03:37 INFO 139796989982528] Gathering samples...\u001b[0m\n",
      "\u001b[34m[06/23/2021 23:03:37 INFO 139796989982528] 25600 samples gathered\u001b[0m\n",
      "\u001b[34m[06/23/2021 23:03:37 INFO 139796989982528] Building Random Cut Forest...\u001b[0m\n",
      "\u001b[34m[06/23/2021 23:03:37 INFO 139796989982528] Random Cut Forest built: \n",
      "\u001b[0m\n",
      "\u001b[34mForestInfo{num_trees: 50, num_samples_in_forest: 25600, num_samples_per_tree: 512, sample_dim: 30, shingle_size: 1, trees_num_nodes: [953, 919, 941, 955, 961, 907, 941, 929, 923, 913, 935, 921, 933, 939, 931, 943, 919, 941, 943, 929, 945, 935, 941, 915, 925, 917, 925, 931, 921, 917, 941, 925, 923, 929, 925, 937, 925, 939, 945, 921, 939, 923, 925, 921, 933, 915, 929, 945, 921, 929, ], trees_depth: [21, 22, 20, 20, 22, 20, 20, 26, 19, 21, 22, 19, 20, 23, 23, 23, 21, 22, 20, 24, 21, 21, 21, 22, 20, 20, 23, 20, 23, 24, 25, 19, 19, 19, 22, 19, 26, 24, 22, 20, 21, 20, 24, 21, 21, 22, 20, 18, 19, 23, ], max_num_nodes: 961, min_num_nodes: 907, avg_num_nodes: 930, max_tree_depth: 26, min_tree_depth: 18, avg_tree_depth: 21, mem_size: 26434032}\u001b[0m\n",
      "\u001b[34m#metrics {\"StartTime\": 1624489417.7451415, \"EndTime\": 1624489417.8079312, \"Dimensions\": {\"Algorithm\": \"RandomCutForest\", \"Host\": \"algo-1\", \"Operation\": \"training\"}, \"Metrics\": {\"fit_model.time\": {\"sum\": 46.32091522216797, \"count\": 1, \"min\": 46.32091522216797, \"max\": 46.32091522216797}, \"model.bytes\": {\"sum\": 26434032.0, \"count\": 1, \"min\": 26434032, \"max\": 26434032}, \"finalize.time\": {\"sum\": 62.14022636413574, \"count\": 1, \"min\": 62.14022636413574, \"max\": 62.14022636413574}}}\n",
      "\u001b[0m\n",
      "\u001b[34m[06/23/2021 23:03:38 INFO 139796989982528] Master node: Serializing the RandomCutForest model\u001b[0m\n",
      "\u001b[34m#metrics {\"StartTime\": 1624489417.8080413, \"EndTime\": 1624489418.5748215, \"Dimensions\": {\"Algorithm\": \"RandomCutForest\", \"Host\": \"algo-1\", \"Operation\": \"training\"}, \"Metrics\": {\"serialize_model.time\": {\"sum\": 766.7210102081299, \"count\": 1, \"min\": 766.7210102081299, \"max\": 766.7210102081299}}}\n",
      "\u001b[0m\n",
      "\u001b[34m[06/23/2021 23:03:38 INFO 139796989982528] Test data is not provided.\u001b[0m\n",
      "\u001b[34m#metrics {\"StartTime\": 1624489418.574907, \"EndTime\": 1624489418.5750234, \"Dimensions\": {\"Algorithm\": \"RandomCutForest\", \"Host\": \"algo-1\", \"Operation\": \"training\"}, \"Metrics\": {\"setuptime\": {\"sum\": 25.246620178222656, \"count\": 1, \"min\": 25.246620178222656, \"max\": 25.246620178222656}, \"totaltime\": {\"sum\": 2404.6709537506104, \"count\": 1, \"min\": 2404.6709537506104, \"max\": 2404.6709537506104}}}\n",
      "\u001b[0m\n",
      "\n",
      "2021-06-23 23:03:54 Completed - Training job completed\n",
      "Training seconds: 84\n",
      "Billable seconds: 84\n"
     ]
    }
   ],
   "source": [
    "rcf.fit(rcf.record_set(X_train))"
   ]
  },
  {
   "cell_type": "markdown",
   "metadata": {},
   "source": [
    "### Host Random Cut Forest"
   ]
  },
  {
   "cell_type": "markdown",
   "metadata": {},
   "source": [
    "Once we have a trained model we can deploy it and get some predictions for our test set."
   ]
  },
  {
   "cell_type": "code",
   "execution_count": 12,
   "metadata": {},
   "outputs": [
    {
     "name": "stderr",
     "output_type": "stream",
     "text": [
      "Parameter image will be renamed to image_uri in SageMaker Python SDK v2.\n"
     ]
    },
    {
     "name": "stdout",
     "output_type": "stream",
     "text": [
      "----------------!"
     ]
    }
   ],
   "source": [
    "rcf_predictor = rcf.deploy(\n",
    "    endpoint_name='random-cut-forest-endpoint',\n",
    "    initial_instance_count=1,\n",
    "    instance_type='ml.c4.xlarge')"
   ]
  },
  {
   "cell_type": "code",
   "execution_count": 13,
   "metadata": {},
   "outputs": [],
   "source": [
    "from sagemaker.predictor import csv_serializer, json_deserializer\n",
    "\n",
    "rcf_predictor.content_type = 'text/csv'\n",
    "rcf_predictor.serializer = csv_serializer\n",
    "rcf_predictor.accept = 'application/json'\n",
    "rcf_predictor.deserializer = json_deserializer"
   ]
  },
  {
   "cell_type": "markdown",
   "metadata": {},
   "source": [
    "### Test Random Cut Forest"
   ]
  },
  {
   "cell_type": "markdown",
   "metadata": {},
   "source": [
    "With the model deployed, let's see how it performs in terms of separating fraudulent from legitimate transactions."
   ]
  },
  {
   "cell_type": "code",
   "execution_count": 14,
   "metadata": {},
   "outputs": [],
   "source": [
    "def predict_rcf(current_predictor, data, rows=500):\n",
    "    split_array = np.array_split(data, int(data.shape[0] / float(rows) + 1))\n",
    "    predictions = []\n",
    "    for array in split_array:\n",
    "        array_preds = [s['score'] for s in current_predictor.predict(array)['scores']]\n",
    "        predictions.append(array_preds)\n",
    "\n",
    "    return np.concatenate([np.array(batch) for batch in predictions])"
   ]
  },
  {
   "cell_type": "code",
   "execution_count": 15,
   "metadata": {},
   "outputs": [],
   "source": [
    "positives = X_test[y_test == 1]\n",
    "positives_scores = predict_rcf(rcf_predictor, positives)\n",
    "\n",
    "negatives = X_test[y_test == 0]\n",
    "negatives_scores = predict_rcf(rcf_predictor, negatives)"
   ]
  },
  {
   "cell_type": "code",
   "execution_count": 16,
   "metadata": {},
   "outputs": [],
   "source": [
    "import seaborn as sns\n",
    "import matplotlib.pyplot as plt\n",
    "sns.set(color_codes=True)"
   ]
  },
  {
   "cell_type": "code",
   "execution_count": 26,
   "metadata": {},
   "outputs": [
    {
     "data": {
      "text/plain": [
       "array([0.90171356, 0.82787078, 0.85043889, 1.10513497, 1.02329563,\n",
       "       0.76827404, 1.01446424, 0.83421629, 1.0199502 , 0.74955616,\n",
       "       0.78165158, 0.76176487, 0.71358797, 0.76640784, 0.77988444,\n",
       "       0.79205919, 0.69665786, 0.85023292, 0.82698584, 0.73935101,\n",
       "       0.7647759 , 0.81002146, 0.95933402, 0.99253044, 0.86762718,\n",
       "       0.80175335, 0.85475367, 0.796876  , 0.84390477, 1.13060384,\n",
       "       0.80716979, 0.8143131 , 0.95820311, 0.72210289, 1.24249548,\n",
       "       0.99294177, 0.86843923, 0.85795029, 1.10815681, 0.90428056,\n",
       "       0.85457069, 0.74947474, 1.10009807, 1.24591615, 1.11312283,\n",
       "       0.79476873])"
      ]
     },
     "execution_count": 26,
     "metadata": {},
     "output_type": "execute_result"
    }
   ],
   "source": [
    "positives_scores"
   ]
  },
  {
   "cell_type": "code",
   "execution_count": 28,
   "metadata": {},
   "outputs": [
    {
     "data": {
      "text/plain": [
       "<matplotlib.legend.Legend at 0x7f78de58b0d0>"
      ]
     },
     "execution_count": 28,
     "metadata": {},
     "output_type": "execute_result"
    },
    {
     "data": {
      "image/png": "[encoded data removed]",
      "text/plain": [
       "<Figure size 432x288 with 1 Axes>"
      ]
     },
     "metadata": {},
     "output_type": "display_data"
    }
   ],
   "source": [
    "sns.distplot(negatives_scores, label='not-fraud', bins=20)\n",
    "sns.distplot(positives_scores, label='fraud', bins=20)\n",
    "plt.legend()"
   ]
  },
  {
   "cell_type": "markdown",
   "metadata": {},
   "source": [
    "The unsupervised model already can achieve some separation between the classes, with higher anomaly scores being correlated to fraud."
   ]
  },
  {
   "cell_type": "markdown",
   "metadata": {},
   "source": [
    "## Supervised Learning"
   ]
  },
  {
   "cell_type": "markdown",
   "metadata": {},
   "source": [
    "Once we have gathered an adequate amount of labeled training data, we can use a supervised learning algorithm that discovers relationships between the features and the dependent class.\n",
    "\n",
    "We will use Gradient Boosted Trees as our model, as they have a proven track record, are highly scalable and can deal with missing data, reducing the need to pre-process datasets."
   ]
  },
  {
   "cell_type": "markdown",
   "metadata": {},
   "source": [
    "### Prepare Data and Upload to S3"
   ]
  },
  {
   "cell_type": "markdown",
   "metadata": {},
   "source": [
    "First we copy the data to an in-memory buffer."
   ]
  },
  {
   "cell_type": "code",
   "execution_count": 29,
   "metadata": {},
   "outputs": [],
   "source": [
    "import io\n",
    "import sklearn\n",
    "from sklearn.datasets import dump_svmlight_file   \n",
    "\n",
    "buf = io.BytesIO()\n",
    "\n",
    "sklearn.datasets.dump_svmlight_file(X_train, y_train, buf)\n",
    "buf.seek(0);"
   ]
  },
  {
   "cell_type": "markdown",
   "metadata": {},
   "source": [
    "Now we upload the data to S3 using boto3."
   ]
  },
  {
   "cell_type": "code",
   "execution_count": 30,
   "metadata": {},
   "outputs": [
    {
     "name": "stdout",
     "output_type": "stream",
     "text": [
      "Uploaded training data location: s3://sagemaker-us-east-1-345341212132/fraud-classifier/train/base/fraud-dataset\n",
      "Training artifacts will be uploaded to: s3://sagemaker-us-east-1-345341212132/fraud-classifier/output\n"
     ]
    }
   ],
   "source": [
    "key = 'fraud-dataset'\n",
    "subdir = 'base'\n",
    "boto3.resource('s3').Bucket(bucket).Object(os.path.join(prefix, 'train', subdir, key)).upload_fileobj(buf)\n",
    "\n",
    "s3_train_data = 's3://{}/{}/train/{}/{}'.format(bucket, prefix, subdir, key)\n",
    "print('Uploaded training data location: {}'.format(s3_train_data))\n",
    "\n",
    "output_location = 's3://{}/{}/output'.format(bucket, prefix)\n",
    "print('Training artifacts will be uploaded to: {}'.format(output_location))"
   ]
  },
  {
   "cell_type": "markdown",
   "metadata": {},
   "source": [
    "We can now train using SageMaker's built-in XGBoost algorithm. To specify the XGBoost algorithm, we use a utility function to obtain its URI. A complete list of built-in algorithms is found here: https://docs.aws.amazon.com/sagemaker/latest/dg/algos.html"
   ]
  },
  {
   "cell_type": "code",
   "execution_count": 31,
   "metadata": {},
   "outputs": [
    {
     "name": "stderr",
     "output_type": "stream",
     "text": [
      "'get_image_uri' method will be deprecated in favor of 'ImageURIProvider' class in SageMaker Python SDK v2.\n",
      "There is a more up to date SageMaker XGBoost image. To use the newer image, please set 'repo_version'='1.0-1'. For example:\n",
      "\tget_image_uri(region, 'xgboost', '1.0-1').\n"
     ]
    }
   ],
   "source": [
    "from sagemaker.amazon.amazon_estimator import get_image_uri\n",
    "\n",
    "container = get_image_uri(boto3.Session().region_name, 'xgboost', repo_version='0.90-2')"
   ]
  },
  {
   "cell_type": "markdown",
   "metadata": {},
   "source": [
    "SageMaker abstracts training via Estimators. We can pass the classifier and parameters along with hyperparameters to the estimator, and fit the estimator to the data in S3. An important parameter here is `scale_pos_weight` which scales the weights of the positive vs. negative class examples. This is crucial to do in an imbalanced dataset like the one we are using here, otherwise the majority class would dominate the learning."
   ]
  },
  {
   "cell_type": "code",
   "execution_count": 32,
   "metadata": {
    "scrolled": true
   },
   "outputs": [
    {
     "name": "stderr",
     "output_type": "stream",
     "text": [
      "Parameter image_name will be renamed to image_uri in SageMaker Python SDK v2.\n",
      "'s3_input' class will be renamed to 'TrainingInput' in SageMaker Python SDK v2.\n"
     ]
    },
    {
     "name": "stdout",
     "output_type": "stream",
     "text": [
      "2021-06-23 23:25:15 Starting - Starting the training job...\n",
      "2021-06-23 23:25:17 Starting - Launching requested ML instances.........\n",
      "2021-06-23 23:26:46 Starting - Preparing the instances for training......\n",
      "2021-06-23 23:28:12 Downloading - Downloading input data...\n",
      "2021-06-23 23:28:29 Training - Downloading the training image...\n",
      "2021-06-23 23:29:11 Training - Training image download completed. Training in progress..\u001b[34mINFO:sagemaker-containers:Imported framework sagemaker_xgboost_container.training\u001b[0m\n",
      "\u001b[34mINFO:sagemaker-containers:Failed to parse hyperparameter eval_metric value auc to Json.\u001b[0m\n",
      "\u001b[34mReturning the value itself\u001b[0m\n",
      "\u001b[34mINFO:sagemaker-containers:Failed to parse hyperparameter objective value binary:logistic to Json.\u001b[0m\n",
      "\u001b[34mReturning the value itself\u001b[0m\n",
      "\u001b[34mINFO:sagemaker-containers:No GPUs detected (normal if no gpus installed)\u001b[0m\n",
      "\u001b[34mINFO:sagemaker_xgboost_container.training:Running XGBoost Sagemaker in algorithm mode\u001b[0m\n",
      "\u001b[34m[23:29:13] 256326x30 matrix with 7688153 entries loaded from /opt/ml/input/data/train\u001b[0m\n",
      "\u001b[34mINFO:root:Single node training.\u001b[0m\n",
      "\u001b[34mINFO:root:Train matrix has 256326 rows\u001b[0m\n",
      "\u001b[34m[0]#011train-auc:0.949304\u001b[0m\n",
      "\u001b[34m[1]#011train-auc:0.970153\u001b[0m\n",
      "\u001b[34m[2]#011train-auc:0.976339\u001b[0m\n",
      "\u001b[34m[3]#011train-auc:0.979237\u001b[0m\n",
      "\u001b[34m[4]#011train-auc:0.979121\u001b[0m\n",
      "\u001b[34m[5]#011train-auc:0.982229\u001b[0m\n",
      "\u001b[34m[6]#011train-auc:0.982265\u001b[0m\n",
      "\u001b[34m[7]#011train-auc:0.982364\u001b[0m\n",
      "\u001b[34m[8]#011train-auc:0.982511\u001b[0m\n",
      "\u001b[34m[9]#011train-auc:0.984091\u001b[0m\n",
      "\u001b[34m[10]#011train-auc:0.985393\u001b[0m\n",
      "\u001b[34m[11]#011train-auc:0.986369\u001b[0m\n",
      "\u001b[34m[12]#011train-auc:0.992521\u001b[0m\n",
      "\u001b[34m[13]#011train-auc:0.992637\u001b[0m\n",
      "\u001b[34m[14]#011train-auc:0.993284\u001b[0m\n",
      "\u001b[34m[15]#011train-auc:0.994226\u001b[0m\n",
      "\u001b[34m[16]#011train-auc:0.996567\u001b[0m\n",
      "\u001b[34m[17]#011train-auc:0.997222\u001b[0m\n",
      "\u001b[34m[18]#011train-auc:0.99788\u001b[0m\n",
      "\u001b[34m[19]#011train-auc:0.99883\u001b[0m\n",
      "\u001b[34m[20]#011train-auc:0.998995\u001b[0m\n",
      "\u001b[34m[21]#011train-auc:0.999144\u001b[0m\n",
      "\u001b[34m[22]#011train-auc:0.999097\u001b[0m\n",
      "\u001b[34m[23]#011train-auc:0.999722\u001b[0m\n",
      "\u001b[34m[24]#011train-auc:0.999731\u001b[0m\n",
      "\u001b[34m[25]#011train-auc:0.999838\u001b[0m\n",
      "\u001b[34m[26]#011train-auc:0.999885\u001b[0m\n",
      "\u001b[34m[27]#011train-auc:0.999887\u001b[0m\n",
      "\u001b[34m[28]#011train-auc:0.999902\u001b[0m\n",
      "\u001b[34m[29]#011train-auc:0.999914\u001b[0m\n",
      "\u001b[34m[30]#011train-auc:0.999931\u001b[0m\n",
      "\u001b[34m[31]#011train-auc:0.999936\u001b[0m\n",
      "\u001b[34m[32]#011train-auc:0.999946\u001b[0m\n",
      "\u001b[34m[33]#011train-auc:0.99995\u001b[0m\n",
      "\u001b[34m[34]#011train-auc:0.999957\u001b[0m\n",
      "\u001b[34m[35]#011train-auc:0.999959\u001b[0m\n",
      "\u001b[34m[36]#011train-auc:0.999961\u001b[0m\n",
      "\u001b[34m[37]#011train-auc:0.999962\u001b[0m\n",
      "\u001b[34m[38]#011train-auc:0.999963\u001b[0m\n",
      "\u001b[34m[39]#011train-auc:0.999965\u001b[0m\n",
      "\u001b[34m[40]#011train-auc:0.999966\u001b[0m\n",
      "\u001b[34m[41]#011train-auc:0.99997\u001b[0m\n",
      "\u001b[34m[42]#011train-auc:0.999973\u001b[0m\n",
      "\u001b[34m[43]#011train-auc:0.999975\u001b[0m\n",
      "\u001b[34m[44]#011train-auc:0.999975\u001b[0m\n",
      "\u001b[34m[45]#011train-auc:0.999976\u001b[0m\n",
      "\u001b[34m[46]#011train-auc:0.999979\u001b[0m\n",
      "\u001b[34m[47]#011train-auc:0.999981\u001b[0m\n",
      "\u001b[34m[48]#011train-auc:0.999983\u001b[0m\n",
      "\u001b[34m[49]#011train-auc:0.999983\u001b[0m\n",
      "\u001b[34m[50]#011train-auc:0.999985\u001b[0m\n",
      "\u001b[34m[51]#011train-auc:0.999986\u001b[0m\n",
      "\u001b[34m[52]#011train-auc:0.999987\u001b[0m\n",
      "\u001b[34m[53]#011train-auc:0.999987\u001b[0m\n",
      "\u001b[34m[54]#011train-auc:0.999988\u001b[0m\n",
      "\u001b[34m[55]#011train-auc:0.999988\u001b[0m\n",
      "\u001b[34m[56]#011train-auc:0.999988\u001b[0m\n",
      "\u001b[34m[57]#011train-auc:0.999989\u001b[0m\n",
      "\u001b[34m[58]#011train-auc:0.999989\u001b[0m\n",
      "\u001b[34m[59]#011train-auc:0.999989\u001b[0m\n",
      "\u001b[34m[60]#011train-auc:0.99999\u001b[0m\n",
      "\u001b[34m[61]#011train-auc:0.99999\u001b[0m\n",
      "\u001b[34m[62]#011train-auc:0.99999\u001b[0m\n",
      "\u001b[34m[63]#011train-auc:0.999991\u001b[0m\n",
      "\u001b[34m[64]#011train-auc:0.999992\u001b[0m\n",
      "\u001b[34m[65]#011train-auc:0.999993\u001b[0m\n",
      "\u001b[34m[66]#011train-auc:0.999993\u001b[0m\n",
      "\u001b[34m[67]#011train-auc:0.999993\u001b[0m\n",
      "\u001b[34m[68]#011train-auc:0.999993\u001b[0m\n",
      "\u001b[34m[69]#011train-auc:0.999994\u001b[0m\n",
      "\u001b[34m[70]#011train-auc:0.999993\u001b[0m\n",
      "\u001b[34m[71]#011train-auc:0.999994\u001b[0m\n",
      "\u001b[34m[72]#011train-auc:0.999994\u001b[0m\n",
      "\u001b[34m[73]#011train-auc:0.999995\u001b[0m\n",
      "\u001b[34m[74]#011train-auc:0.999995\u001b[0m\n",
      "\u001b[34m[75]#011train-auc:0.999995\u001b[0m\n",
      "\u001b[34m[76]#011train-auc:0.999996\u001b[0m\n",
      "\u001b[34m[77]#011train-auc:0.999996\u001b[0m\n",
      "\u001b[34m[78]#011train-auc:0.999996\u001b[0m\n",
      "\u001b[34m[79]#011train-auc:0.999996\u001b[0m\n",
      "\u001b[34m[80]#011train-auc:0.999996\u001b[0m\n",
      "\u001b[34m[81]#011train-auc:0.999996\u001b[0m\n",
      "\u001b[34m[82]#011train-auc:0.999997\u001b[0m\n",
      "\u001b[34m[83]#011train-auc:0.999997\u001b[0m\n",
      "\u001b[34m[84]#011train-auc:0.999997\u001b[0m\n",
      "\u001b[34m[85]#011train-auc:0.999997\u001b[0m\n",
      "\u001b[34m[86]#011train-auc:0.999997\u001b[0m\n",
      "\u001b[34m[87]#011train-auc:0.999997\u001b[0m\n",
      "\u001b[34m[88]#011train-auc:0.999998\u001b[0m\n",
      "\u001b[34m[89]#011train-auc:0.999998\u001b[0m\n",
      "\u001b[34m[90]#011train-auc:0.999998\u001b[0m\n",
      "\u001b[34m[91]#011train-auc:0.999998\u001b[0m\n",
      "\u001b[34m[92]#011train-auc:0.999998\u001b[0m\n",
      "\u001b[34m[93]#011train-auc:0.999998\u001b[0m\n",
      "\u001b[34m[94]#011train-auc:0.999998\u001b[0m\n",
      "\u001b[34m[95]#011train-auc:0.999998\u001b[0m\n",
      "\u001b[34m[96]#011train-auc:0.999998\u001b[0m\n",
      "\u001b[34m[97]#011train-auc:0.999998\u001b[0m\n",
      "\u001b[34m[98]#011train-auc:0.999998\u001b[0m\n",
      "\n",
      "2021-06-23 23:30:16 Uploading - Uploading generated training model\n",
      "2021-06-23 23:30:16 Completed - Training job completed\n",
      "\u001b[34m[99]#011train-auc:0.999999\u001b[0m\n",
      "Training seconds: 124\n",
      "Billable seconds: 124\n"
     ]
    }
   ],
   "source": [
    "from math import sqrt\n",
    "from sagemaker import get_execution_role\n",
    "\n",
    "# Because the data set is so highly skewed, we set the scale position weight conservatively,\n",
    "# as sqrt(num_nonfraud/num_fraud).\n",
    "# Other recommendations for the scale_pos_weight are setting it to (num_nonfraud/num_fraud).\n",
    "scale_pos_weight = sqrt(np.count_nonzero(y_train==0)/np.count_nonzero(y_train))\n",
    "hyperparams = {\n",
    "    \"max_depth\":5,\n",
    "    \"subsample\":0.8,\n",
    "    \"num_round\":100,\n",
    "    \"eta\":0.2,\n",
    "    \"gamma\":4,\n",
    "    \"min_child_weight\":6,\n",
    "    \"silent\":0,\n",
    "    \"objective\":'binary:logistic',\n",
    "    \"eval_metric\":'auc',\n",
    "    \"scale_pos_weight\": scale_pos_weight\n",
    "}\n",
    "\n",
    "clf = sagemaker.estimator.Estimator(container,\n",
    "                                    get_execution_role(),\n",
    "                                    hyperparameters=hyperparams,\n",
    "                                    train_instance_count=1, \n",
    "                                    train_instance_type='ml.m4.xlarge',\n",
    "                                    output_path=output_location,\n",
    "                                    sagemaker_session=session)\n",
    "clf.fit({'train': s3_train_data})"
   ]
  },
  {
   "cell_type": "markdown",
   "metadata": {},
   "source": [
    "### Host Classifier"
   ]
  },
  {
   "cell_type": "markdown",
   "metadata": {},
   "source": [
    "Now we deploy the estimator to and endpoint."
   ]
  },
  {
   "cell_type": "code",
   "execution_count": 33,
   "metadata": {},
   "outputs": [
    {
     "name": "stderr",
     "output_type": "stream",
     "text": [
      "Parameter image will be renamed to image_uri in SageMaker Python SDK v2.\n"
     ]
    },
    {
     "name": "stdout",
     "output_type": "stream",
     "text": [
      "-----------------!"
     ]
    }
   ],
   "source": [
    "from sagemaker.predictor import csv_serializer\n",
    "\n",
    "predictor = clf.deploy(initial_instance_count=1,\n",
    "                       endpoint_name=\"fraud-detection-endpoint\",\n",
    "                       instance_type='ml.m4.xlarge', \n",
    "                       serializer=csv_serializer,\n",
    "                       deserializer=None,\n",
    "                       content_type='text/csv')"
   ]
  },
  {
   "cell_type": "markdown",
   "metadata": {},
   "source": [
    "## Evaluation"
   ]
  },
  {
   "cell_type": "markdown",
   "metadata": {},
   "source": [
    "Once we have trained the model we can use it to make predictions for the test set."
   ]
  },
  {
   "cell_type": "code",
   "execution_count": 34,
   "metadata": {},
   "outputs": [],
   "source": [
    "# Because we have a large test set, we call predict on smaller batches\n",
    "def predict(current_predictor, data, rows=500):\n",
    "    split_array = np.array_split(data, int(data.shape[0] / float(rows) + 1))\n",
    "    predictions = ''\n",
    "    for array in split_array:\n",
    "        predictions = ','.join([predictions, current_predictor.predict(array).decode('utf-8')])\n",
    "\n",
    "    return np.fromstring(predictions[1:], sep=',')"
   ]
  },
  {
   "cell_type": "code",
   "execution_count": 35,
   "metadata": {},
   "outputs": [],
   "source": [
    "raw_preds = predict(predictor, X_test)"
   ]
  },
  {
   "cell_type": "markdown",
   "metadata": {},
   "source": [
    "We will use a few measures from the scikit-learn package to evaluate the performance of our model. When dealing with an imbalanced dataset, we need to choose metrics that take into account the frequency of each class in the data.\n",
    "\n",
    "Two such metrics are the [balanced accuracy score](https://scikit-learn.org/stable/modules/model_evaluation.html#balanced-accuracy-score), and [Cohen's Kappa](https://scikit-learn.org/stable/modules/model_evaluation.html#cohen-s-kappa)."
   ]
  },
  {
   "cell_type": "code",
   "execution_count": 36,
   "metadata": {},
   "outputs": [
    {
     "name": "stdout",
     "output_type": "stream",
     "text": [
      "Balanced accuracy = 0.9021211611532022\n",
      "Cohen's Kappa = 0.860255159493083\n"
     ]
    }
   ],
   "source": [
    "from sklearn.metrics import balanced_accuracy_score, cohen_kappa_score\n",
    "\n",
    "# scikit-learn expects 0/1 predictions, so we threshold our raw predictions\n",
    "y_preds = np.where(raw_preds > 0.5, 1, 0)\n",
    "print(\"Balanced accuracy = {}\".format(balanced_accuracy_score(y_test, y_preds)))\n",
    "print(\"Cohen's Kappa = {}\".format(cohen_kappa_score(y_test, y_preds)))"
   ]
  },
  {
   "cell_type": "markdown",
   "metadata": {},
   "source": [
    "We can already see that our model performs very well in terms of both metrics, Cohen's Kappa scores above 0.8 are generally very favorable."
   ]
  },
  {
   "cell_type": "markdown",
   "metadata": {},
   "source": [
    "Apart from single-value metrics, it's also useful to look at metrics that indicate performance per class. A confusion matrix, and per-class precision, recall and f1-score can also provide more information about the model's performance."
   ]
  },
  {
   "cell_type": "code",
   "execution_count": 37,
   "metadata": {},
   "outputs": [],
   "source": [
    "import matplotlib.pyplot as plt\n",
    "import seaborn as sns\n",
    "from sklearn.metrics import confusion_matrix\n",
    "\n",
    "def plot_confusion_matrix(y_true, y_predicted):\n",
    "\n",
    "    cm  = confusion_matrix(y_true, y_predicted)\n",
    "    # Get the per-class normalized value for each cell\n",
    "    cm_norm = cm.astype('float') / cm.sum(axis=1)[:, np.newaxis]\n",
    "    \n",
    "    # We color each cell according to its normalized value, annotate with exact counts.\n",
    "    ax = sns.heatmap(cm_norm, annot=cm, fmt=\"d\")\n",
    "    ax.set(xticklabels=[\"non-fraud\", \"fraud\"], yticklabels=[\"non-fraud\", \"fraud\"])\n",
    "    ax.set_ylim([0,2])\n",
    "    plt.title('Confusion Matrix')\n",
    "    plt.ylabel('Real Classes')\n",
    "    plt.xlabel('Predicted Classes')\n",
    "    plt.show()"
   ]
  },
  {
   "cell_type": "code",
   "execution_count": 38,
   "metadata": {},
   "outputs": [
    {
     "data": {
      "image/png": "[encoded data removed]",
      "text/plain": [
       "<Figure size 432x288 with 2 Axes>"
      ]
     },
     "metadata": {},
     "output_type": "display_data"
    }
   ],
   "source": [
    "plot_confusion_matrix(y_test, y_preds)"
   ]
  },
  {
   "cell_type": "code",
   "execution_count": 39,
   "metadata": {},
   "outputs": [
    {
     "name": "stdout",
     "output_type": "stream",
     "text": [
      "              precision    recall  f1-score   support\n",
      "\n",
      "   non-fraud       1.00      1.00      1.00     28435\n",
      "       fraud       0.93      0.80      0.86        46\n",
      "\n",
      "    accuracy                           1.00     28481\n",
      "   macro avg       0.96      0.90      0.93     28481\n",
      "weighted avg       1.00      1.00      1.00     28481\n",
      "\n"
     ]
    }
   ],
   "source": [
    "from sklearn.metrics import classification_report\n",
    "\n",
    "print(classification_report(\n",
    "    y_test, y_preds, target_names=['non-fraud', 'fraud']))"
   ]
  },
  {
   "cell_type": "markdown",
   "metadata": {},
   "source": [
    "\n",
    "## Data Acknowledgements\n",
    "\n",
    "The dataset used to demonstrated the fraud detection solution has been collected and analysed during a research collaboration of Worldline and the Machine Learning Group (http://mlg.ulb.ac.be) of ULB (Université Libre de Bruxelles) on big data mining and fraud detection. More details on current and past projects on related topics are available on https://www.researchgate.net/project/Fraud-detection-5 and the page of the [DefeatFraud](https://mlg.ulb.ac.be/wordpress/portfolio_page/defeatfraud-assessment-and-validation-of-deep-feature-engineering-and-learning-solutions-for-fraud-detection/) project\n",
    "We cite the following works:\n",
    "* Andrea Dal Pozzolo, Olivier Caelen, Reid A. Johnson and Gianluca Bontempi. Calibrating Probability with Undersampling for Unbalanced Classification. In Symposium on Computational Intelligence and Data Mining (CIDM), IEEE, 2015\n",
    "* Dal Pozzolo, Andrea; Caelen, Olivier; Le Borgne, Yann-Ael; Waterschoot, Serge; Bontempi, Gianluca. Learned lessons in credit card fraud detection from a practitioner perspective, Expert systems with applications,41,10,4915-4928,2014, Pergamon\n",
    "* Dal Pozzolo, Andrea; Boracchi, Giacomo; Caelen, Olivier; Alippi, Cesare; Bontempi, Gianluca. Credit card fraud detection: a realistic modeling and a novel learning strategy, IEEE transactions on neural networks and learning systems,29,8,3784-3797,2018,IEEE\n",
    "* Dal Pozzolo, Andrea Adaptive Machine learning for credit card fraud detection ULB MLG PhD thesis (supervised by G. Bontempi)\n",
    "* Carcillo, Fabrizio; Dal Pozzolo, Andrea; Le Borgne, Yann-Aël; Caelen, Olivier; Mazzer, Yannis; Bontempi, Gianluca. Scarff: a scalable framework for streaming credit card fraud detection with Spark, Information fusion,41, 182-194,2018,Elsevier\n",
    "* Carcillo, Fabrizio; Le Borgne, Yann-Aël; Caelen, Olivier; Bontempi, Gianluca. Streaming active learning strategies for real-life credit card fraud detection: assessment and visualization, International Journal of Data Science and Analytics, 5,4,285-300,2018,Springer International Publishing"
   ]
  }
 ],
 "metadata": {
  "instance_type": "ml.t3.medium",
  "kernelspec": {
   "display_name": "Python 3 (Data Science)",
   "language": "python",
   "name": "python3__SAGEMAKER_INTERNAL__arn:aws:sagemaker:us-east-1:081325390199:image/datascience-1.0"
  },
  "language_info": {
   "codemirror_mode": {
    "name": "ipython",
    "version": 3
   },
   "file_extension": ".py",
   "mimetype": "text/x-python",
   "name": "python",
   "nbconvert_exporter": "python",
   "pygments_lexer": "ipython3",
   "version": "3.7.10"
  }
 },
 "nbformat": 4,
 "nbformat_minor": 4
}
